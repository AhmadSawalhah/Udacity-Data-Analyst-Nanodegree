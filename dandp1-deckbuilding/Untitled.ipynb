{
 "cells": [
  {
   "cell_type": "markdown",
   "metadata": {},
   "source": [
    "# Udacity DAND Project 1: Deck Building"
   ]
  },
  {
   "cell_type": "code",
   "execution_count": 1,
   "metadata": {
    "collapsed": true
   },
   "outputs": [],
   "source": [
    "%matplotlib inline"
   ]
  },
  {
   "cell_type": "code",
   "execution_count": 2,
   "metadata": {
    "collapsed": true
   },
   "outputs": [],
   "source": [
    "import pandas as pd\n",
    "import matplotlib.pyplot as plt\n",
    "import seaborn as sns"
   ]
  },
  {
   "cell_type": "code",
   "execution_count": 3,
   "metadata": {
    "collapsed": true
   },
   "outputs": [],
   "source": [
    "suits = ['S', 'H', 'C', 'D']\n",
    "values = ['A', '2', '3', '4', '5', '6', '7', '8', '9', 'K', 'Q', 'J']"
   ]
  },
  {
   "cell_type": "code",
   "execution_count": 6,
   "metadata": {},
   "outputs": [
    {
     "data": {
      "text/plain": [
       "{'C2': 2,\n",
       " 'C3': 3,\n",
       " 'C4': 4,\n",
       " 'C5': 5,\n",
       " 'C6': 6,\n",
       " 'C7': 7,\n",
       " 'C8': 8,\n",
       " 'C9': 9,\n",
       " 'CA': 1,\n",
       " 'CJ': 10,\n",
       " 'CK': 10,\n",
       " 'CQ': 10,\n",
       " 'D2': 2,\n",
       " 'D3': 3,\n",
       " 'D4': 4,\n",
       " 'D5': 5,\n",
       " 'D6': 6,\n",
       " 'D7': 7,\n",
       " 'D8': 8,\n",
       " 'D9': 9,\n",
       " 'DA': 1,\n",
       " 'DJ': 10,\n",
       " 'DK': 10,\n",
       " 'DQ': 10,\n",
       " 'H2': 2,\n",
       " 'H3': 3,\n",
       " 'H4': 4,\n",
       " 'H5': 5,\n",
       " 'H6': 6,\n",
       " 'H7': 7,\n",
       " 'H8': 8,\n",
       " 'H9': 9,\n",
       " 'HA': 1,\n",
       " 'HJ': 10,\n",
       " 'HK': 10,\n",
       " 'HQ': 10,\n",
       " 'S2': 2,\n",
       " 'S3': 3,\n",
       " 'S4': 4,\n",
       " 'S5': 5,\n",
       " 'S6': 6,\n",
       " 'S7': 7,\n",
       " 'S8': 8,\n",
       " 'S9': 9,\n",
       " 'SA': 1,\n",
       " 'SJ': 10,\n",
       " 'SK': 10,\n",
       " 'SQ': 10}"
      ]
     },
     "execution_count": 6,
     "metadata": {},
     "output_type": "execute_result"
    }
   ],
   "source": [
    "cards = [suit+value for suit in suits for value in values]\n",
    "deck = {}\n",
    "\n",
    "for card in cards:\n",
    "    if card[1] == 'A':\n",
    "        deck[card] = 1\n",
    "    elif card[1] in ['K', 'Q', 'J']:\n",
    "        deck[card] = 10\n",
    "    else:\n",
    "        deck[card] = int(card[1])\n",
    "\n",
    "deck_series = pd.Series(deck)"
   ]
  },
  {
   "cell_type": "code",
   "execution_count": null,
   "metadata": {
    "collapsed": true
   },
   "outputs": [],
   "source": []
  }
 ],
 "metadata": {
  "kernelspec": {
   "display_name": "Python 3",
   "language": "python",
   "name": "python3"
  },
  "language_info": {
   "codemirror_mode": {
    "name": "ipython",
    "version": 3
   },
   "file_extension": ".py",
   "mimetype": "text/x-python",
   "name": "python",
   "nbconvert_exporter": "python",
   "pygments_lexer": "ipython3",
   "version": "3.6.1"
  }
 },
 "nbformat": 4,
 "nbformat_minor": 2
}
