{
 "cells": [
  {
   "cell_type": "code",
   "execution_count": null,
   "metadata": {
    "collapsed": true
   },
   "outputs": [],
   "source": [
    "%matplotlib inline\n",
    "import pandas as pd\n",
    "import numpy as np\n",
    "import seaborn as sns\n",
    "sns.set()\n",
    "import scipy.stats as st\n",
    "import matplotlib.pyplot as plt\n",
    "\n",
    "pd.set_option('display.float_format', lambda x: '%.2f' % x)\n",
    "\n",
    "players = pd.read_csv('core/Master.csv')\n",
    "salary = pd.read_csv('core/Salaries.csv')\n",
    "teams = pd.read_csv('core/Teams.csv')\n",
    "cpi_u_values = pd.read_csv('cpi_u_values.csv', float_precision=\"round_trip\")\n",
    "\n",
    "def percentile(num):\n",
    "    def percentile_(df):\n",
    "        return np.percentile(df, num)\n",
    "    percentile_.__name__ = 'percentile_%s' % num\n",
    "    return percentile_"
   ]
  },
  {
   "cell_type": "markdown",
   "metadata": {},
   "source": [
    "## Questions to Answer\n",
    "\n",
    "1. How has the salary for baseball been over the history of the MLB? Total? Average?\n",
    "2. Whats the correlation between performance and salary?\n",
    "3. What positions garner the highest salaries?\n",
    "4. How is the wage disparity for baseball players? Top heavy? Even?\n",
    "5. Do teams with high salaries win championships?\n",
    "\n",
    "## What Needs to be Done\n",
    "\n",
    "1. Need to convert the salaries dataframe to a timeindex dataframe. This will let us do a plot of salary changes over time.\n",
    "2. ~~Adjust salaries to inflation.~~\n",
    "3. Change plot lables to best match what we want to communicate"
   ]
  },
  {
   "cell_type": "code",
   "execution_count": null,
   "metadata": {
    "collapsed": true
   },
   "outputs": [],
   "source": []
  },
  {
   "cell_type": "code",
   "execution_count": null,
   "metadata": {},
   "outputs": [],
   "source": [
    "salary_by_year = salary.groupby(['yearID'])['salary'].agg([np.max, np.mean, np.median, np.min, percentile(25), percentile(75)])\n",
    "salary_by_year.plot(figsize=(19, 19))\n",
    "plt.tight_layout()"
   ]
  },
  {
   "cell_type": "markdown",
   "metadata": {},
   "source": [
    "### Question 1:\n",
    "Baseball salaries seem to be top heavy. "
   ]
  },
  {
   "cell_type": "code",
   "execution_count": null,
   "metadata": {},
   "outputs": [],
   "source": [
    "salary_by_player_year = salary.groupby(['yearID'])\n",
    "top_ten_by_year = salary_by_player_year.apply(lambda x: x.nlargest(10, 'salary'))\n",
    "\n",
    "sorted_salary = salary.sort_values('salary', ascending=False)\n",
    "sorted_salary.groupby('yearID').apply(lambda x: x['salary'].iloc[0] - x['salary'].median())\n",
    "top_ten_by_year.loc[2013]"
   ]
  },
  {
   "cell_type": "markdown",
   "metadata": {},
   "source": [
    "Why do some baseball players have a salary of 0??"
   ]
  },
  {
   "cell_type": "code",
   "execution_count": null,
   "metadata": {
    "collapsed": true
   },
   "outputs": [],
   "source": [
    "salary[salary['yearID'] == 2016]['salary'].hist()"
   ]
  },
  {
   "cell_type": "code",
   "execution_count": null,
   "metadata": {},
   "outputs": [],
   "source": [
    "plot_salary_sum = salary_by_year.sum().plot(figsize=(12,6))\n",
    "plot_salary_sum.set(xlabel='Year', ylabel=\"Sum of Salaries\")\n",
    "plt.tight_layout()"
   ]
  },
  {
   "cell_type": "markdown",
   "metadata": {},
   "source": [
    "### Salary By Teams"
   ]
  },
  {
   "cell_type": "code",
   "execution_count": null,
   "metadata": {},
   "outputs": [],
   "source": [
    "salary.pivot_table('salary', index='yearID', columns='teamID')"
   ]
  },
  {
   "cell_type": "code",
   "execution_count": null,
   "metadata": {},
   "outputs": [],
   "source": []
  },
  {
   "cell_type": "code",
   "execution_count": null,
   "metadata": {
    "collapsed": true
   },
   "outputs": [],
   "source": [
    "# teams.merge(salary, on=['teamID', 'yearID'])\n",
    "team_salary = teams.merge(salary.groupby(['teamID', 'yearID']).sum().reset_index(), on=['teamID', 'yearID'])\n",
    "team_salary_by_year = team_salary.groupby(['yearID', 'teamID', 'W'])['salary'].sum().reset_index()\n",
    "team_salary_by_year\n",
    "#team_salary_by_year['rank'] = team_salary_by_year.groupby('yearID').rank()\n",
    "team_salary_by_year['rank'] = team_salary_by_year.groupby('yearID')['salary'].rank()\n",
    "#team_salary_by_year.pivot_table('rank', index='yearID', columns='teamID').plot(figsize=(20, 20))\n",
    "team_salary_by_year.plot(kind='scatter', x='rank', y='W', figsize=(20, 20))\n",
    "team_salary_by_year.head(5)"
   ]
  },
  {
   "cell_type": "code",
   "execution_count": null,
   "metadata": {},
   "outputs": [],
   "source": [
    "cpiu_with_salary = team_salary.merge(cpi_u_values, on=\"yearID\")\n",
    "cpiu_with_salary = cpiu_with_salary[['yearID', 'teamID', 'W', 'salary', 'cpi_u']]\n",
    "cpiu_with_salary['salary_adj'] = cpiu_with_salary.apply(lambda x: (x['salary'] * 240.007)/x['cpi_u'], axis=1)\n",
    "cpiu_with_salary.plot(kind='scatter', x='salary_adj', y='W', figsize=(20, 20))"
   ]
  },
  {
   "cell_type": "code",
   "execution_count": null,
   "metadata": {},
   "outputs": [],
   "source": [
    "#pd.options.display.float_format = '{:.2f}'.format\n",
    "round(pd.read_csv('cpi_u_values.csv', float_precision='high').iloc[31]['Annual'], 3)"
   ]
  },
  {
   "cell_type": "code",
   "execution_count": null,
   "metadata": {},
   "outputs": [],
   "source": [
    "salary_with_cpi"
   ]
  },
  {
   "cell_type": "code",
   "execution_count": null,
   "metadata": {
    "collapsed": true
   },
   "outputs": [],
   "source": []
  }
 ],
 "metadata": {
  "kernelspec": {
   "display_name": "Python [default]",
   "language": "python",
   "name": "python2"
  },
  "language_info": {
   "codemirror_mode": {
    "name": "ipython",
    "version": 2
   },
   "file_extension": ".py",
   "mimetype": "text/x-python",
   "name": "python",
   "nbconvert_exporter": "python",
   "pygments_lexer": "ipython2",
   "version": "2.7.13"
  }
 },
 "nbformat": 4,
 "nbformat_minor": 2
}
