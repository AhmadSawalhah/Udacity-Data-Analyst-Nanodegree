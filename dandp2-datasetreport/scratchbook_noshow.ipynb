{
 "cells": [
  {
   "cell_type": "code",
   "execution_count": 1,
   "metadata": {
    "collapsed": true
   },
   "outputs": [],
   "source": [
    "import numpy as np\n",
    "import pandas as pd\n",
    "import matplotlib.pyplot as plt\n",
    "import seaborn as sns\n",
    "\n",
    "%matplotlib inline\n",
    "sns.set()\n",
    "pd.set_option('display.float_format', lambda x: '%.2f' % x)"
   ]
  },
  {
   "cell_type": "code",
   "execution_count": 124,
   "metadata": {},
   "outputs": [],
   "source": [
    "bins = [0, 1, 4, 9, 13, 18, 35, 55, np.inf]\n",
    "labels = ['baby', 'toddler', 'gradeschool', 'preteen', 'teenager', 'youngadult', 'middle-aged', 'elder']\n",
    "patient_headers = ['PatientId']\n",
    "cats = ['Scholarship', 'Hipertension', 'Diabetes', 'Alcoholism', 'Handcap', 'SMS_received', 'no', 'yes']\n",
    "\n",
    "data = (pd.read_csv('noshowappointments-kagglev2-may-2016.csv', dtype={'PatientId': object, 'AppointmentID': object})\n",
    "            .query(\"Age >= 0\")\n",
    "            .drop_duplicates(subset=['PatientId', 'AppointmentDay'], keep=False)\n",
    "            .assign(ScheduledDay=lambda x: pd.to_datetime(pd.to_datetime(x['ScheduledDay']).dt.date),\n",
    "                    AppointmentDay=lambda x: pd.to_datetime(x['AppointmentDay']),\n",
    "                    age_group=lambda x: pd.cut(x['Age'], bins, labels=labels, include_lowest=True),\n",
    "                    yes=lambda x: (x['No-show'] == 'Yes').astype(int),\n",
    "                    no=lambda x: (x['No-show'] == 'No').astype(int)))\n",
    "\n",
    "data.age_group.cat.reorder_categories(labels, inplace=True)\n",
    "\n",
    "def \n",
    "\n",
    "def noshow_counts(df, columns):\n",
    "    df = df.copy()\n",
    "    return df.groupby(columns)['No-show'].value_counts().unstack(1).reset_index()\n",
    "\n",
    "def get_noshow_ratio(df):\n",
    "    return df['Yes']/(df['No']+df['Yes'])"
   ]
  },
  {
   "cell_type": "code",
   "execution_count": 125,
   "metadata": {},
   "outputs": [
    {
     "data": {
      "text/plain": [
       "<matplotlib.axes._subplots.AxesSubplot at 0x2c1aa978>"
      ]
     },
     "execution_count": 125,
     "metadata": {},
     "output_type": "execute_result"
    },
    {
     "data": {
      "image/png": "[encoded data removed]",
      "text/plain": [
       "<matplotlib.figure.Figure at 0x1f1b3f60>"
      ]
     },
     "metadata": {},
     "output_type": "display_data"
    }
   ],
   "source": [
    "data['age_group'].value_counts().plot.bar()"
   ]
  },
  {
   "cell_type": "code",
   "execution_count": 126,
   "metadata": {},
   "outputs": [
    {
     "data": {
      "text/plain": [
       "age_group\n",
       "baby              0\n",
       "toddler           1\n",
       "gradeschool       4\n",
       "preteen           5\n",
       "teenager         11\n",
       "youngadult      354\n",
       "middle-aged    1224\n",
       "elder           832\n",
       "Name: Alcoholism, dtype: int64"
      ]
     },
     "execution_count": 126,
     "metadata": {},
     "output_type": "execute_result"
    }
   ],
   "source": [
    "age_groups = data.groupby('age_group')\n",
    "age_groups['Alcoholism'].sum()"
   ]
  },
  {
   "cell_type": "code",
   "execution_count": null,
   "metadata": {
    "collapsed": true
   },
   "outputs": [],
   "source": [
    "data[data[['PatientId', 'AppointmentDay']].duplicated"
   ]
  },
  {
   "cell_type": "code",
   "execution_count": null,
   "metadata": {
    "collapsed": true
   },
   "outputs": [],
   "source": [
    "data[data[['PatientId', 'AppointmentDay']].duplicated"
   ]
  },
  {
   "cell_type": "markdown",
   "metadata": {
    "collapsed": true
   },
   "source": [
    "## Things to do\n",
    "\n",
    "1. Column DataType Changes\n",
    "    - PatientId = Object (or a ID type if pandas has that)\n",
    "    - Scholarship = Category\n",
    "    - Hipertension = Category\n",
    "    - Diabetes = Category\n",
    "    - Alcoholism = Category\n",
    "    - Handicap = Category\n",
    "    - SMS_received = Category\n",
    "    - No_Shows = Category\n",
    "    \n",
    "2. Remove outliers\n",
    "    - a -1.00 age needs to be removed. 0 age may refer to babies, so that may stay the same.\n",
    "    \n",
    "3. Visualizations\n",
    "    - Bar chart of major categories (Scholarship, Hipertension, Diabetes, Alcoholism, and Handcap)"
   ]
  },
  {
   "cell_type": "code",
   "execution_count": null,
   "metadata": {},
   "outputs": [],
   "source": [
    "data.info()"
   ]
  },
  {
   "cell_type": "code",
   "execution_count": null,
   "metadata": {},
   "outputs": [],
   "source": [
    "major_cats_alt = ['Scholarship', 'Hipertension', 'Diabetes', 'Alcoholism', 'Handcap', 'SMS_received']\n",
    "major_cats_alt_no_show = ['Scholarship', 'Hipertension', 'Diabetes', 'Alcoholism', 'Handcap', 'SMS_received', 'No-show']\n",
    "no_shows = data[data['No-show'] == 'Yes']\n",
    "no_shows.mean(numeric_only=True)"
   ]
  },
  {
   "cell_type": "code",
   "execution_count": null,
   "metadata": {},
   "outputs": [],
   "source": [
    "shows = data[data['No-show'] == 'No']\n",
    "shows.std(numeric_only=True)"
   ]
  },
  {
   "cell_type": "code",
   "execution_count": null,
   "metadata": {},
   "outputs": [],
   "source": [
    "age_comparison = data[['Age', 'No-show']]\n",
    "age_comparison.info()"
   ]
  },
  {
   "cell_type": "code",
   "execution_count": null,
   "metadata": {},
   "outputs": [],
   "source": [
    "bins = [0, 1, 4, 9, 13, 18, 35, 55, np.inf]\n",
    "labels = ['baby', 'toddler', 'gradeschool', 'preteen', 'teenager', 'youngadult', 'middle-aged', 'elder']\n",
    "data['age_groups'] = pd.cut(data['Age'], bins, labels=labels, include_lowest=True)\n",
    "\n",
    "age_comparison = (data.pipe(noshow_counts, ['age_groups'])\n",
    "                      .set_index('age_groups')\n",
    "                      .fillna(0)\n",
    "                      .assign(noshow_ratio=get_noshow_ratio))\n",
    "\n",
    "age_comparison.plot.bar()"
   ]
  },
  {
   "cell_type": "code",
   "execution_count": null,
   "metadata": {},
   "outputs": [],
   "source": [
    "data[major_cats_alt_no_show].groupby('No-show').sum().T.plot.bar()"
   ]
  },
  {
   "cell_type": "code",
   "execution_count": null,
   "metadata": {},
   "outputs": [],
   "source": [
    "data[major_cats_alt].filter?"
   ]
  },
  {
   "cell_type": "code",
   "execution_count": null,
   "metadata": {},
   "outputs": [],
   "source": [
    "no_select = data.copy()\n",
    "no_select['No-selection'] = data.filter(major_cats_alt).eq(0).all(1)\n",
    "no_select"
   ]
  },
  {
   "cell_type": "code",
   "execution_count": null,
   "metadata": {},
   "outputs": [],
   "source": [
    "selections = data.copy()\n",
    "selections['Selections'] = data[major_cats_alt].sum(axis=1)\n",
    "selections = selections.groupby('Selections')['No-show'].value_counts().unstack(1)\n",
    "selections.apply(lambda x: x/selections.sum().sum())"
   ]
  },
  {
   "cell_type": "code",
   "execution_count": null,
   "metadata": {},
   "outputs": [],
   "source": [
    "data['PatientId'].value_counts().max()"
   ]
  },
  {
   "cell_type": "code",
   "execution_count": null,
   "metadata": {},
   "outputs": [],
   "source": [
    "patient_counts = data.copy()\n",
    "patient_counts['freq'] = data.groupby('PatientId')['PatientId'].transform('count')\n",
    "patient_counts = patient_counts.groupby('freq')['No-show'].value_counts().unstack(1).reset_index().fillna(0)\n",
    "patient_counts['Patients'] = patient_counts.apply(lambda x: (x['No']+x['Yes'])/x['freq'], axis=1)\n",
    "patient_counts['% of Missed'] = patient_counts['Yes']/(patient_counts['No']+patient_counts['Yes'])\n",
    "patient_counts.plot.scatter(x='freq', y='% of Missed', marker='o', c='b')"
   ]
  },
  {
   "cell_type": "code",
   "execution_count": null,
   "metadata": {},
   "outputs": [],
   "source": [
    "sns.lmplot(x='freq', y='% of Missed', data=patient_counts)"
   ]
  },
  {
   "cell_type": "code",
   "execution_count": null,
   "metadata": {},
   "outputs": [],
   "source": [
    "gender = data.groupby('Gender')['No-show'].value_counts().unstack(1)\n",
    "gender"
   ]
  },
  {
   "cell_type": "code",
   "execution_count": null,
   "metadata": {},
   "outputs": [],
   "source": [
    "neighbourhoods = data.groupby('Neighbourhood')['No-show'].value_counts().unstack(1)\n",
    "neighbourhoods['% of Missed'] = neighbourhoods['Yes']/(neighbourhoods['No']+neighbourhoods['Yes'])\n",
    "neighbourhoods['total'] = neighbourhoods.iloc[:, :2].sum(axis=1)\n",
    "neighbourhoods.sort_values('% of Missed', ascending=False)"
   ]
  },
  {
   "cell_type": "code",
   "execution_count": null,
   "metadata": {},
   "outputs": [],
   "source": [
    "data.info()"
   ]
  },
  {
   "cell_type": "code",
   "execution_count": null,
   "metadata": {},
   "outputs": [],
   "source": [
    "test = data.copy()\n",
    "test['ScheduledDay'] = pd.to_datetime(pd.to_datetime(test['ScheduledDay']).dt.date)\n",
    "test['AppointmentDay'] = pd.to_datetime(test['AppointmentDay'])\n",
    "test['days_left'] = test['AppointmentDay'] - test['ScheduledDay']\n",
    "test = test.groupby('days_left')['No-show'].value_counts().unstack(1).fillna(0).reset_index()\n",
    "test = test.query('days_left >= \"0 days\"')\n",
    "q = pd.cut(test.days_left, 15)\n",
    "new = test.groupby(q).sum()\n",
    "new['%'] = new['Yes']/(new['No']+new['Yes'])\n",
    "new"
   ]
  },
  {
   "cell_type": "code",
   "execution_count": null,
   "metadata": {},
   "outputs": [],
   "source": [
    "data.groupby('No-show')['No-show'].transform('value_counts')"
   ]
  },
  {
   "cell_type": "code",
   "execution_count": null,
   "metadata": {
    "collapsed": true
   },
   "outputs": [],
   "source": []
  }
 ],
 "metadata": {
  "kernelspec": {
   "display_name": "Python [default]",
   "language": "python",
   "name": "python2"
  },
  "language_info": {
   "codemirror_mode": {
    "name": "ipython",
    "version": 2
   },
   "file_extension": ".py",
   "mimetype": "text/x-python",
   "name": "python",
   "nbconvert_exporter": "python",
   "pygments_lexer": "ipython2",
   "version": "2.7.13"
  }
 },
 "nbformat": 4,
 "nbformat_minor": 2
}
