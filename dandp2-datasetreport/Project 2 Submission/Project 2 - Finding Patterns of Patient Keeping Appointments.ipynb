{
 "cells": [
  {
   "cell_type": "markdown",
   "metadata": {},
   "source": [
    "# Project: Finding Patterns of Patient Keeping Appointments\n",
    "\n",
    "## Table of Contents\n",
    "<ul>\n",
    "<li><a href=\"#intro\">Introduction</a></li>\n",
    "<li><a href=\"#wrangling\">Data Wrangling</a></li>\n",
    "<li><a href=\"#eda\">Exploratory Data Analysis</a></li>\n",
    "<li><a href=\"#conclusions\">Conclusions</a></li>\n",
    "</ul>"
   ]
  },
  {
   "cell_type": "markdown",
   "metadata": {},
   "source": [
    "<a id='intro'></a>\n",
    "## Introduction\n",
    "\n",
    "For this project, I have decided to use the a dataset containing information on over 100k medical appointments in Brazil. It was originally published on Kaggle under the question of whether or not we can predict if patients show up for their appointments. The dataset provides information on when patients were scheduled for appointments, whether they made their appointment, their location, their age, and other characteristics. I will be exploring the dataset to see if we can answer the question of whether we can predict a patients attendance based on the data we were given."
   ]
  },
  {
   "cell_type": "code",
   "execution_count": 1,
   "metadata": {},
   "outputs": [],
   "source": [
    "import numpy as np\n",
    "import pandas as pd\n",
    "import matplotlib.pyplot as plt\n",
    "import seaborn as sns\n",
    "import calendar as cal\n",
    "from collections import OrderedDict\n",
    "\n",
    "%matplotlib inline\n",
    "sns.set()\n",
    "pd.set_option('display.float_format', lambda x: '%.2f' % x)"
   ]
  },
  {
   "cell_type": "markdown",
   "metadata": {},
   "source": [
    "<a id='wrangling'></a>\n",
    "## Data Wrangling\n",
    "\n",
    "### Looking at the Initial Dataset\n",
    "\n",
    "First lets give a quick lookover the dataset to see what we are dealing with."
   ]
  },
  {
   "cell_type": "code",
   "execution_count": 2,
   "metadata": {},
   "outputs": [
    {
     "name": "stdout",
     "output_type": "stream",
     "text": [
      "<class 'pandas.core.frame.DataFrame'>\n",
      "RangeIndex: 110527 entries, 0 to 110526\n",
      "Data columns (total 14 columns):\n",
      "PatientId         110527 non-null float64\n",
      "AppointmentID     110527 non-null int64\n",
      "Gender            110527 non-null object\n",
      "ScheduledDay      110527 non-null object\n",
      "AppointmentDay    110527 non-null object\n",
      "Age               110527 non-null int64\n",
      "Neighbourhood     110527 non-null object\n",
      "Scholarship       110527 non-null int64\n",
      "Hipertension      110527 non-null int64\n",
      "Diabetes          110527 non-null int64\n",
      "Alcoholism        110527 non-null int64\n",
      "Handcap           110527 non-null int64\n",
      "SMS_received      110527 non-null int64\n",
      "No-show           110527 non-null object\n",
      "dtypes: float64(1), int64(8), object(5)\n",
      "memory usage: 44.8 MB\n"
     ]
    }
   ],
   "source": [
    "data = pd.read_csv('noshowappointments-kagglev2-may-2016.csv')\n",
    "data.info(memory_usage='deep')"
   ]
  },
  {
   "cell_type": "code",
   "execution_count": 25,
   "metadata": {},
   "outputs": [
    {
     "data": {
      "text/html": [
       "<div>\n",
       "<style scoped>\n",
       "    .dataframe tbody tr th:only-of-type {\n",
       "        vertical-align: middle;\n",
       "    }\n",
       "\n",
       "    .dataframe tbody tr th {\n",
       "        vertical-align: top;\n",
       "    }\n",
       "\n",
       "    .dataframe thead th {\n",
       "        text-align: right;\n",
       "    }\n",
       "</style>\n",
       "<table border=\"1\" class=\"dataframe\">\n",
       "  <thead>\n",
       "    <tr style=\"text-align: right;\">\n",
       "      <th></th>\n",
       "      <th>patientid</th>\n",
       "      <th>appointmentid</th>\n",
       "      <th>gender</th>\n",
       "      <th>scheduledday</th>\n",
       "      <th>appointmentday</th>\n",
       "      <th>age</th>\n",
       "      <th>neighbourhood</th>\n",
       "      <th>scholarship</th>\n",
       "      <th>hipertension</th>\n",
       "      <th>diabetes</th>\n",
       "      <th>alcoholism</th>\n",
       "      <th>handcap</th>\n",
       "      <th>sms_received</th>\n",
       "      <th>no-show</th>\n",
       "      <th>age_group</th>\n",
       "      <th>days_between</th>\n",
       "      <th>day</th>\n",
       "      <th>month</th>\n",
       "      <th>no_cats</th>\n",
       "      <th>weeks</th>\n",
       "    </tr>\n",
       "  </thead>\n",
       "  <tbody>\n",
       "    <tr>\n",
       "      <th>0</th>\n",
       "      <td>29872499824296.00</td>\n",
       "      <td>5642903</td>\n",
       "      <td>F</td>\n",
       "      <td>2016-04-29 18:38:08</td>\n",
       "      <td>2016-04-29</td>\n",
       "      <td>62</td>\n",
       "      <td>JARDIM DA PENHA</td>\n",
       "      <td>0</td>\n",
       "      <td>1</td>\n",
       "      <td>0</td>\n",
       "      <td>0</td>\n",
       "      <td>0</td>\n",
       "      <td>0</td>\n",
       "      <td>No</td>\n",
       "      <td>elder</td>\n",
       "      <td>0</td>\n",
       "      <td>Friday</td>\n",
       "      <td>April</td>\n",
       "      <td>False</td>\n",
       "      <td>0 Week</td>\n",
       "    </tr>\n",
       "    <tr>\n",
       "      <th>1</th>\n",
       "      <td>558997776694438.00</td>\n",
       "      <td>5642503</td>\n",
       "      <td>M</td>\n",
       "      <td>2016-04-29 16:08:27</td>\n",
       "      <td>2016-04-29</td>\n",
       "      <td>56</td>\n",
       "      <td>JARDIM DA PENHA</td>\n",
       "      <td>0</td>\n",
       "      <td>0</td>\n",
       "      <td>0</td>\n",
       "      <td>0</td>\n",
       "      <td>0</td>\n",
       "      <td>0</td>\n",
       "      <td>No</td>\n",
       "      <td>middle age</td>\n",
       "      <td>0</td>\n",
       "      <td>Friday</td>\n",
       "      <td>April</td>\n",
       "      <td>True</td>\n",
       "      <td>0 Week</td>\n",
       "    </tr>\n",
       "    <tr>\n",
       "      <th>2</th>\n",
       "      <td>4262962299951.00</td>\n",
       "      <td>5642549</td>\n",
       "      <td>F</td>\n",
       "      <td>2016-04-29 16:19:04</td>\n",
       "      <td>2016-04-29</td>\n",
       "      <td>62</td>\n",
       "      <td>MATA DA PRAIA</td>\n",
       "      <td>0</td>\n",
       "      <td>0</td>\n",
       "      <td>0</td>\n",
       "      <td>0</td>\n",
       "      <td>0</td>\n",
       "      <td>0</td>\n",
       "      <td>No</td>\n",
       "      <td>elder</td>\n",
       "      <td>0</td>\n",
       "      <td>Friday</td>\n",
       "      <td>April</td>\n",
       "      <td>True</td>\n",
       "      <td>0 Week</td>\n",
       "    </tr>\n",
       "    <tr>\n",
       "      <th>3</th>\n",
       "      <td>867951213174.00</td>\n",
       "      <td>5642828</td>\n",
       "      <td>F</td>\n",
       "      <td>2016-04-29 17:29:31</td>\n",
       "      <td>2016-04-29</td>\n",
       "      <td>8</td>\n",
       "      <td>PONTAL DE CAMBURI</td>\n",
       "      <td>0</td>\n",
       "      <td>0</td>\n",
       "      <td>0</td>\n",
       "      <td>0</td>\n",
       "      <td>0</td>\n",
       "      <td>0</td>\n",
       "      <td>No</td>\n",
       "      <td>childhood</td>\n",
       "      <td>0</td>\n",
       "      <td>Friday</td>\n",
       "      <td>April</td>\n",
       "      <td>True</td>\n",
       "      <td>0 Week</td>\n",
       "    </tr>\n",
       "    <tr>\n",
       "      <th>4</th>\n",
       "      <td>8841186448183.00</td>\n",
       "      <td>5642494</td>\n",
       "      <td>F</td>\n",
       "      <td>2016-04-29 16:07:23</td>\n",
       "      <td>2016-04-29</td>\n",
       "      <td>56</td>\n",
       "      <td>JARDIM DA PENHA</td>\n",
       "      <td>0</td>\n",
       "      <td>1</td>\n",
       "      <td>1</td>\n",
       "      <td>0</td>\n",
       "      <td>0</td>\n",
       "      <td>0</td>\n",
       "      <td>No</td>\n",
       "      <td>middle age</td>\n",
       "      <td>0</td>\n",
       "      <td>Friday</td>\n",
       "      <td>April</td>\n",
       "      <td>False</td>\n",
       "      <td>0 Week</td>\n",
       "    </tr>\n",
       "  </tbody>\n",
       "</table>\n",
       "</div>"
      ],
      "text/plain": [
       "           patientid  appointmentid gender        scheduledday appointmentday  \\\n",
       "0  29872499824296.00        5642903      F 2016-04-29 18:38:08     2016-04-29   \n",
       "1 558997776694438.00        5642503      M 2016-04-29 16:08:27     2016-04-29   \n",
       "2   4262962299951.00        5642549      F 2016-04-29 16:19:04     2016-04-29   \n",
       "3    867951213174.00        5642828      F 2016-04-29 17:29:31     2016-04-29   \n",
       "4   8841186448183.00        5642494      F 2016-04-29 16:07:23     2016-04-29   \n",
       "\n",
       "   age      neighbourhood  scholarship  hipertension  diabetes  alcoholism  \\\n",
       "0   62    JARDIM DA PENHA            0             1         0           0   \n",
       "1   56    JARDIM DA PENHA            0             0         0           0   \n",
       "2   62      MATA DA PRAIA            0             0         0           0   \n",
       "3    8  PONTAL DE CAMBURI            0             0         0           0   \n",
       "4   56    JARDIM DA PENHA            0             1         1           0   \n",
       "\n",
       "   handcap  sms_received no-show   age_group  days_between     day  month  \\\n",
       "0        0             0      No       elder             0  Friday  April   \n",
       "1        0             0      No  middle age             0  Friday  April   \n",
       "2        0             0      No       elder             0  Friday  April   \n",
       "3        0             0      No   childhood             0  Friday  April   \n",
       "4        0             0      No  middle age             0  Friday  April   \n",
       "\n",
       "   no_cats   weeks  \n",
       "0    False  0 Week  \n",
       "1     True  0 Week  \n",
       "2     True  0 Week  \n",
       "3     True  0 Week  \n",
       "4    False  0 Week  "
      ]
     },
     "execution_count": 25,
     "metadata": {},
     "output_type": "execute_result"
    }
   ],
   "source": [
    "data.head()"
   ]
  },
  {
   "cell_type": "code",
   "execution_count": 4,
   "metadata": {},
   "outputs": [
    {
     "data": {
      "text/html": [
       "<div>\n",
       "<style scoped>\n",
       "    .dataframe tbody tr th:only-of-type {\n",
       "        vertical-align: middle;\n",
       "    }\n",
       "\n",
       "    .dataframe tbody tr th {\n",
       "        vertical-align: top;\n",
       "    }\n",
       "\n",
       "    .dataframe thead th {\n",
       "        text-align: right;\n",
       "    }\n",
       "</style>\n",
       "<table border=\"1\" class=\"dataframe\">\n",
       "  <thead>\n",
       "    <tr style=\"text-align: right;\">\n",
       "      <th></th>\n",
       "      <th>PatientId</th>\n",
       "      <th>AppointmentID</th>\n",
       "      <th>Age</th>\n",
       "      <th>Scholarship</th>\n",
       "      <th>Hipertension</th>\n",
       "      <th>Diabetes</th>\n",
       "      <th>Alcoholism</th>\n",
       "      <th>Handcap</th>\n",
       "      <th>SMS_received</th>\n",
       "    </tr>\n",
       "  </thead>\n",
       "  <tbody>\n",
       "    <tr>\n",
       "      <th>count</th>\n",
       "      <td>110527.00</td>\n",
       "      <td>110527.00</td>\n",
       "      <td>110527.00</td>\n",
       "      <td>110527.00</td>\n",
       "      <td>110527.00</td>\n",
       "      <td>110527.00</td>\n",
       "      <td>110527.00</td>\n",
       "      <td>110527.00</td>\n",
       "      <td>110527.00</td>\n",
       "    </tr>\n",
       "    <tr>\n",
       "      <th>mean</th>\n",
       "      <td>147496265710394.06</td>\n",
       "      <td>5675305.12</td>\n",
       "      <td>37.09</td>\n",
       "      <td>0.10</td>\n",
       "      <td>0.20</td>\n",
       "      <td>0.07</td>\n",
       "      <td>0.03</td>\n",
       "      <td>0.02</td>\n",
       "      <td>0.32</td>\n",
       "    </tr>\n",
       "    <tr>\n",
       "      <th>std</th>\n",
       "      <td>256094920291739.09</td>\n",
       "      <td>71295.75</td>\n",
       "      <td>23.11</td>\n",
       "      <td>0.30</td>\n",
       "      <td>0.40</td>\n",
       "      <td>0.26</td>\n",
       "      <td>0.17</td>\n",
       "      <td>0.16</td>\n",
       "      <td>0.47</td>\n",
       "    </tr>\n",
       "    <tr>\n",
       "      <th>min</th>\n",
       "      <td>39217.84</td>\n",
       "      <td>5030230.00</td>\n",
       "      <td>-1.00</td>\n",
       "      <td>0.00</td>\n",
       "      <td>0.00</td>\n",
       "      <td>0.00</td>\n",
       "      <td>0.00</td>\n",
       "      <td>0.00</td>\n",
       "      <td>0.00</td>\n",
       "    </tr>\n",
       "    <tr>\n",
       "      <th>25%</th>\n",
       "      <td>4172614444192.00</td>\n",
       "      <td>5640285.50</td>\n",
       "      <td>18.00</td>\n",
       "      <td>0.00</td>\n",
       "      <td>0.00</td>\n",
       "      <td>0.00</td>\n",
       "      <td>0.00</td>\n",
       "      <td>0.00</td>\n",
       "      <td>0.00</td>\n",
       "    </tr>\n",
       "    <tr>\n",
       "      <th>50%</th>\n",
       "      <td>31731838713978.00</td>\n",
       "      <td>5680573.00</td>\n",
       "      <td>37.00</td>\n",
       "      <td>0.00</td>\n",
       "      <td>0.00</td>\n",
       "      <td>0.00</td>\n",
       "      <td>0.00</td>\n",
       "      <td>0.00</td>\n",
       "      <td>0.00</td>\n",
       "    </tr>\n",
       "    <tr>\n",
       "      <th>75%</th>\n",
       "      <td>94391720898175.00</td>\n",
       "      <td>5725523.50</td>\n",
       "      <td>55.00</td>\n",
       "      <td>0.00</td>\n",
       "      <td>0.00</td>\n",
       "      <td>0.00</td>\n",
       "      <td>0.00</td>\n",
       "      <td>0.00</td>\n",
       "      <td>1.00</td>\n",
       "    </tr>\n",
       "    <tr>\n",
       "      <th>max</th>\n",
       "      <td>999981631772427.00</td>\n",
       "      <td>5790484.00</td>\n",
       "      <td>115.00</td>\n",
       "      <td>1.00</td>\n",
       "      <td>1.00</td>\n",
       "      <td>1.00</td>\n",
       "      <td>1.00</td>\n",
       "      <td>4.00</td>\n",
       "      <td>1.00</td>\n",
       "    </tr>\n",
       "  </tbody>\n",
       "</table>\n",
       "</div>"
      ],
      "text/plain": [
       "               PatientId  AppointmentID       Age  Scholarship  Hipertension  \\\n",
       "count          110527.00      110527.00 110527.00    110527.00     110527.00   \n",
       "mean  147496265710394.06     5675305.12     37.09         0.10          0.20   \n",
       "std   256094920291739.09       71295.75     23.11         0.30          0.40   \n",
       "min             39217.84     5030230.00     -1.00         0.00          0.00   \n",
       "25%     4172614444192.00     5640285.50     18.00         0.00          0.00   \n",
       "50%    31731838713978.00     5680573.00     37.00         0.00          0.00   \n",
       "75%    94391720898175.00     5725523.50     55.00         0.00          0.00   \n",
       "max   999981631772427.00     5790484.00    115.00         1.00          1.00   \n",
       "\n",
       "       Diabetes  Alcoholism   Handcap  SMS_received  \n",
       "count 110527.00   110527.00 110527.00     110527.00  \n",
       "mean       0.07        0.03      0.02          0.32  \n",
       "std        0.26        0.17      0.16          0.47  \n",
       "min        0.00        0.00      0.00          0.00  \n",
       "25%        0.00        0.00      0.00          0.00  \n",
       "50%        0.00        0.00      0.00          0.00  \n",
       "75%        0.00        0.00      0.00          1.00  \n",
       "max        1.00        1.00      4.00          1.00  "
      ]
     },
     "execution_count": 4,
     "metadata": {},
     "output_type": "execute_result"
    }
   ],
   "source": [
    "data.describe()"
   ]
  },
  {
   "cell_type": "markdown",
   "metadata": {},
   "source": [
    "### Cleaning up the dataset\n",
    "\n",
    "Some initial observations:\n",
    "\n",
    "- We can see in the age column that there appears to be a -1 age. That's definitely something we want to clean from our dataset.\n",
    "- We can also see that the categories scholarship, hypertension, diabetes, alcoholism, and sms_received seem to be boolean in nature. Handicap sticks out with having 4 different options. Unfortunately, I could not find documentation detailing what each of those 4 options represent.\n",
    "- The two columns with dates (ScheduledDay and AppointmentDay) will need to be converted. Furthermore, while ScheduledDay seems to indicate a specific time, all entries for AppointmentDay are set to 00:00:00 time.\n",
    "- The column no-show has only two possible entries: no and yes. We can turn this into a boolean type for easier operations.\n",
    "\n",
    "Now lets check to make sure there aren't any weird entries for our columns."
   ]
  },
  {
   "cell_type": "code",
   "execution_count": 5,
   "metadata": {},
   "outputs": [
    {
     "name": "stdout",
     "output_type": "stream",
     "text": [
      "Gender => ['F', 'M']\n",
      "Age => [-1, 0, 1, 2, 3, 4, 5, 6, 7, 8, 9, 10, 11, 12, 13, 14, 15, 16, 17, 18, 19, 20, 21, 22, 23, 24, 25, 26, 27, 28, 29, 30, 31, 32, 33, 34, 35, 36, 37, 38, 39, 40, 41, 42, 43, 44, 45, 46, 47, 48, 49, 50, 51, 52, 53, 54, 55, 56, 57, 58, 59, 60, 61, 62, 63, 64, 65, 66, 67, 68, 69, 70, 71, 72, 73, 74, 75, 76, 77, 78, 79, 80, 81, 82, 83, 84, 85, 86, 87, 88, 89, 90, 91, 92, 93, 94, 95, 96, 97, 98, 99, 100, 102, 115]\n",
      "Scholarship => [0, 1]\n",
      "Hipertension => [0, 1]\n",
      "Diabetes => [0, 1]\n",
      "Alcoholism => [0, 1]\n",
      "Handcap => [0, 1, 2, 3, 4]\n",
      "SMS_received => [0, 1]\n",
      "No-show => ['No', 'Yes']\n"
     ]
    }
   ],
   "source": [
    "columns = ['Gender', 'Age', 'Scholarship', 'Hipertension', 'Diabetes', 'Alcoholism', 'Handcap', 'SMS_received', 'No-show']\n",
    "for column in columns:\n",
    "    print(\"{} => {}\".format(column, sorted(data[column].unique())))"
   ]
  },
  {
   "cell_type": "markdown",
   "metadata": {},
   "source": [
    "So far, everything seems to be as expected outside of the -1 age, which we have already noted. Lets fix that. In addition we will also change our column types and column names in the way we suggested above, change no-show to a boolean type, and convert ScheduledDay and AppointmentDay to a datatime column."
   ]
  },
  {
   "cell_type": "code",
   "execution_count": 6,
   "metadata": {},
   "outputs": [],
   "source": [
    "def noshow_to_bool(df):\n",
    "    '''\n",
    "    Changes Yes and No to True and False for the no-show column\n",
    "    '''\n",
    "    df = df.copy()\n",
    "    df['no-show'] = df['no-show'].map({'Yes': True, 'No': False})\n",
    "    return df\n",
    "    \n",
    "data = (data.rename(columns=str.lower)\n",
    "            .query(\"age >= 0\")\n",
    "            #.pipe(noshow_to_bool)\n",
    "            .assign(scheduledday = lambda x: pd.to_datetime(x['scheduledday']),\n",
    "                    appointmentday = lambda x: pd.to_datetime(x['appointmentday'])))"
   ]
  },
  {
   "cell_type": "markdown",
   "metadata": {},
   "source": []
  },
  {
   "cell_type": "markdown",
   "metadata": {},
   "source": [
    "## Adding Features (and More Cleaning!)\n",
    "\n",
    "With the changes made to our dataframe, we can start adding some features. Specifically, I want to look at:\n",
    "\n",
    "- The day of the appointment\n",
    "- The month of the appointment\n",
    "- How many days in between the schedule day and the appointment day\n",
    "- Whether the patient came in for any of the categories listed\n",
    "- What age group the patient would fall under\n",
    "\n",
    "The range for the age groups will be:\n",
    "\n",
    "- Toddler: 0-2\n",
    "- Childhood: 3-12\n",
    "- Teenager: 13-19\n",
    "- Adulthood: 20-40\n",
    "- Middle Age: 40-60\n",
    "- Elderly: 60+\n",
    "\n",
    "I came to these ranges after searching for guidelines on how age ranges are typically represented in health studies. In general, they change depending on the context of the research. For instance, the W.H.O groups ages in 0-9, 10-19, 20-59, and 60+ in regards to women's health studies, while other organizations use increments of 5 years. For this project I wanted to look at specific ranges that show major points in a person's lifespan, and how those timespans relate to hospital visits.\n",
    "\n"
   ]
  },
  {
   "cell_type": "code",
   "execution_count": 7,
   "metadata": {},
   "outputs": [
    {
     "data": {
      "text/plain": [
       "['Tuesday', 'Wednesday', 'Thursday', 'Friday', 'Saturday', 'Sunday']"
      ]
     },
     "execution_count": 7,
     "metadata": {},
     "output_type": "execute_result"
    }
   ],
   "source": [
    "list(cal.day_name[1:])"
   ]
  },
  {
   "cell_type": "code",
   "execution_count": 8,
   "metadata": {},
   "outputs": [],
   "source": [
    "age_bins = [0, 3, 13, 20, 40, 60, np.inf]\n",
    "week_bins = [0, 6, 13, 20, 27, np.inf]\n",
    "age_labels = ['toddler', 'childhood', 'teenager', 'adulthood', 'middle age', 'elder']\n",
    "week_labels = ['0 Week', '1 Week', '2 Weeks', '3 Weeks', '4+ Weeks']\n",
    "categories = ['scholarship', 'hipertension', 'diabetes', 'alcoholism', 'handcap', 'sms_received']\n",
    "\n",
    "data = data.assign(age_group = lambda x: pd.cut(x['age'], age_bins, labels=age_labels, include_lowest=True),\n",
    "                   days_between = lambda x: (x['appointmentday'] - pd.to_datetime(x['scheduledday'].dt.date)).dt.days,\n",
    "                   day = data['appointmentday'].apply(lambda x: cal.day_name[x.weekday()]).astype('category'),\n",
    "                   month = data['appointmentday'].apply(lambda x: cal.month_name[x.month]).astype('category'),\n",
    "                   no_cats = lambda x: (x[categories] == 0).all(1))\n",
    "\n",
    "data = data.assign(weeks = lambda x: pd.cut(x['days_between'], week_bins, labels=week_labels, include_lowest=True))\n",
    "\n",
    "data['age_group'].cat.reorder_categories(age_labels, ordered=True, inplace=True)\n",
    "data['weeks'].cat.reorder_categories(week_labels, ordered=True, inplace=True)"
   ]
  },
  {
   "cell_type": "markdown",
   "metadata": {},
   "source": [
    "Now that we have made these changes to our dataset, lets take a look at the values generated by our new columns and date values."
   ]
  },
  {
   "cell_type": "code",
   "execution_count": 9,
   "metadata": {},
   "outputs": [
    {
     "name": "stdout",
     "output_type": "stream",
     "text": [
      "month => ['April', 'June', 'May']\n",
      "day => ['Friday', 'Monday', 'Saturday', 'Thursday', 'Tuesday', 'Wednesday']\n"
     ]
    }
   ],
   "source": [
    "columns = ['month', 'day']\n",
    "for column in columns:\n",
    "    print(\"{} => {}\".format(column, sorted(data[column].unique())))"
   ]
  },
  {
   "cell_type": "markdown",
   "metadata": {},
   "source": [
    "Interestingly, when looking at the values generated by our month and day columns for appointments, we only get the months of April to June, and all days except for Sunday."
   ]
  },
  {
   "cell_type": "code",
   "execution_count": 10,
   "metadata": {},
   "outputs": [
    {
     "name": "stdout",
     "output_type": "stream",
     "text": [
      "Earliest ScheduledDay: 2015-11-10 07:13:56, Latest ScheduledDay: 2016-06-08 20:07:23\n",
      "Earliest AppointmentDay: 2016-04-29 00:00:00, Latest AppointmentDay: 2016-06-08 00:00:00\n"
     ]
    }
   ],
   "source": [
    "print(\"Earliest ScheduledDay: {}, Latest ScheduledDay: {}\".format(min(data['scheduledday']), max(data['scheduledday'])))\n",
    "print(\"Earliest AppointmentDay: {}, Latest AppointmentDay: {}\".format(min(data['appointmentday']), max(data['appointmentday'])))"
   ]
  },
  {
   "cell_type": "markdown",
   "metadata": {},
   "source": [
    "Looking at the earliest and latestest dates for our ScheduledDay column and AppointmentDay column reveals that our dataset actually only covers about 2 months worth of appointment data. Considering we are trying to find predictors for attendance, we have to keep this specific fact in mind. Time of the year can potentially affect attendance due to factors such as weather, and with only 2-3 months worth of data we only have a very small subset of time to work with."
   ]
  },
  {
   "cell_type": "code",
   "execution_count": 11,
   "metadata": {},
   "outputs": [
    {
     "data": {
      "text/html": [
       "<div>\n",
       "<style scoped>\n",
       "    .dataframe tbody tr th:only-of-type {\n",
       "        vertical-align: middle;\n",
       "    }\n",
       "\n",
       "    .dataframe tbody tr th {\n",
       "        vertical-align: top;\n",
       "    }\n",
       "\n",
       "    .dataframe thead th {\n",
       "        text-align: right;\n",
       "    }\n",
       "</style>\n",
       "<table border=\"1\" class=\"dataframe\">\n",
       "  <thead>\n",
       "    <tr style=\"text-align: right;\">\n",
       "      <th></th>\n",
       "      <th>patientid</th>\n",
       "      <th>appointmentid</th>\n",
       "      <th>gender</th>\n",
       "      <th>scheduledday</th>\n",
       "      <th>appointmentday</th>\n",
       "      <th>age</th>\n",
       "      <th>neighbourhood</th>\n",
       "      <th>scholarship</th>\n",
       "      <th>hipertension</th>\n",
       "      <th>diabetes</th>\n",
       "      <th>alcoholism</th>\n",
       "      <th>handcap</th>\n",
       "      <th>sms_received</th>\n",
       "      <th>no-show</th>\n",
       "      <th>age_group</th>\n",
       "      <th>days_between</th>\n",
       "      <th>day</th>\n",
       "      <th>month</th>\n",
       "      <th>no_cats</th>\n",
       "      <th>weeks</th>\n",
       "    </tr>\n",
       "  </thead>\n",
       "  <tbody>\n",
       "    <tr>\n",
       "      <th>27033</th>\n",
       "      <td>7839272661752.00</td>\n",
       "      <td>5679978</td>\n",
       "      <td>M</td>\n",
       "      <td>2016-05-10 10:51:53</td>\n",
       "      <td>2016-05-09</td>\n",
       "      <td>38</td>\n",
       "      <td>RESISTÊNCIA</td>\n",
       "      <td>0</td>\n",
       "      <td>0</td>\n",
       "      <td>0</td>\n",
       "      <td>0</td>\n",
       "      <td>1</td>\n",
       "      <td>0</td>\n",
       "      <td>Yes</td>\n",
       "      <td>adulthood</td>\n",
       "      <td>-1</td>\n",
       "      <td>Monday</td>\n",
       "      <td>May</td>\n",
       "      <td>False</td>\n",
       "      <td>NaN</td>\n",
       "    </tr>\n",
       "    <tr>\n",
       "      <th>55226</th>\n",
       "      <td>7896293967868.00</td>\n",
       "      <td>5715660</td>\n",
       "      <td>F</td>\n",
       "      <td>2016-05-18 14:50:41</td>\n",
       "      <td>2016-05-17</td>\n",
       "      <td>19</td>\n",
       "      <td>SANTO ANTÔNIO</td>\n",
       "      <td>0</td>\n",
       "      <td>0</td>\n",
       "      <td>0</td>\n",
       "      <td>0</td>\n",
       "      <td>1</td>\n",
       "      <td>0</td>\n",
       "      <td>Yes</td>\n",
       "      <td>teenager</td>\n",
       "      <td>-1</td>\n",
       "      <td>Tuesday</td>\n",
       "      <td>May</td>\n",
       "      <td>False</td>\n",
       "      <td>NaN</td>\n",
       "    </tr>\n",
       "    <tr>\n",
       "      <th>64175</th>\n",
       "      <td>24252258389979.00</td>\n",
       "      <td>5664962</td>\n",
       "      <td>F</td>\n",
       "      <td>2016-05-05 13:43:58</td>\n",
       "      <td>2016-05-04</td>\n",
       "      <td>22</td>\n",
       "      <td>CONSOLAÇÃO</td>\n",
       "      <td>0</td>\n",
       "      <td>0</td>\n",
       "      <td>0</td>\n",
       "      <td>0</td>\n",
       "      <td>0</td>\n",
       "      <td>0</td>\n",
       "      <td>Yes</td>\n",
       "      <td>adulthood</td>\n",
       "      <td>-1</td>\n",
       "      <td>Wednesday</td>\n",
       "      <td>May</td>\n",
       "      <td>True</td>\n",
       "      <td>NaN</td>\n",
       "    </tr>\n",
       "    <tr>\n",
       "      <th>71533</th>\n",
       "      <td>998231581612122.00</td>\n",
       "      <td>5686628</td>\n",
       "      <td>F</td>\n",
       "      <td>2016-05-11 13:49:20</td>\n",
       "      <td>2016-05-05</td>\n",
       "      <td>81</td>\n",
       "      <td>SANTO ANTÔNIO</td>\n",
       "      <td>0</td>\n",
       "      <td>0</td>\n",
       "      <td>0</td>\n",
       "      <td>0</td>\n",
       "      <td>0</td>\n",
       "      <td>0</td>\n",
       "      <td>Yes</td>\n",
       "      <td>elder</td>\n",
       "      <td>-6</td>\n",
       "      <td>Thursday</td>\n",
       "      <td>May</td>\n",
       "      <td>True</td>\n",
       "      <td>NaN</td>\n",
       "    </tr>\n",
       "    <tr>\n",
       "      <th>72362</th>\n",
       "      <td>3787481966821.00</td>\n",
       "      <td>5655637</td>\n",
       "      <td>M</td>\n",
       "      <td>2016-05-04 06:50:57</td>\n",
       "      <td>2016-05-03</td>\n",
       "      <td>7</td>\n",
       "      <td>TABUAZEIRO</td>\n",
       "      <td>0</td>\n",
       "      <td>0</td>\n",
       "      <td>0</td>\n",
       "      <td>0</td>\n",
       "      <td>0</td>\n",
       "      <td>0</td>\n",
       "      <td>Yes</td>\n",
       "      <td>childhood</td>\n",
       "      <td>-1</td>\n",
       "      <td>Tuesday</td>\n",
       "      <td>May</td>\n",
       "      <td>True</td>\n",
       "      <td>NaN</td>\n",
       "    </tr>\n",
       "  </tbody>\n",
       "</table>\n",
       "</div>"
      ],
      "text/plain": [
       "               patientid  appointmentid gender        scheduledday  \\\n",
       "27033   7839272661752.00        5679978      M 2016-05-10 10:51:53   \n",
       "55226   7896293967868.00        5715660      F 2016-05-18 14:50:41   \n",
       "64175  24252258389979.00        5664962      F 2016-05-05 13:43:58   \n",
       "71533 998231581612122.00        5686628      F 2016-05-11 13:49:20   \n",
       "72362   3787481966821.00        5655637      M 2016-05-04 06:50:57   \n",
       "\n",
       "      appointmentday  age  neighbourhood  scholarship  hipertension  diabetes  \\\n",
       "27033     2016-05-09   38    RESISTÊNCIA            0             0         0   \n",
       "55226     2016-05-17   19  SANTO ANTÔNIO            0             0         0   \n",
       "64175     2016-05-04   22     CONSOLAÇÃO            0             0         0   \n",
       "71533     2016-05-05   81  SANTO ANTÔNIO            0             0         0   \n",
       "72362     2016-05-03    7     TABUAZEIRO            0             0         0   \n",
       "\n",
       "       alcoholism  handcap  sms_received no-show  age_group  days_between  \\\n",
       "27033           0        1             0     Yes  adulthood            -1   \n",
       "55226           0        1             0     Yes   teenager            -1   \n",
       "64175           0        0             0     Yes  adulthood            -1   \n",
       "71533           0        0             0     Yes      elder            -6   \n",
       "72362           0        0             0     Yes  childhood            -1   \n",
       "\n",
       "             day month  no_cats weeks  \n",
       "27033     Monday   May    False   NaN  \n",
       "55226    Tuesday   May    False   NaN  \n",
       "64175  Wednesday   May     True   NaN  \n",
       "71533   Thursday   May     True   NaN  \n",
       "72362    Tuesday   May     True   NaN  "
      ]
     },
     "execution_count": 11,
     "metadata": {},
     "output_type": "execute_result"
    },
    {
     "data": {
      "image/png": "[encoded data removed]",
      "text/plain": [
       "<Figure size 432x288 with 1 Axes>"
      ]
     },
     "metadata": {},
     "output_type": "display_data"
    }
   ],
   "source": [
    "sns.stripplot(x='days_between', data=data, jitter=True)\n",
    "data[data['days_between'] < 0]"
   ]
  },
  {
   "cell_type": "markdown",
   "metadata": {},
   "source": [
    "A look at our day_between value reveals some bad data. Values less than 0 days should not exist."
   ]
  },
  {
   "cell_type": "code",
   "execution_count": 12,
   "metadata": {},
   "outputs": [],
   "source": [
    "data = data[data['days_between'] >= 0]"
   ]
  },
  {
   "cell_type": "markdown",
   "metadata": {},
   "source": [
    "With that done, we can now start exploring our dataset!"
   ]
  },
  {
   "cell_type": "markdown",
   "metadata": {},
   "source": [
    "<a id='eda'></a>\n",
    "## Exploratory Data Analysis\n",
    "\n",
    "### Are there any patterns we can find for patients who don't make appointments based on their condition?\n",
    "\n",
    "First, lets write some functions that will help with our analysis."
   ]
  },
  {
   "cell_type": "code",
   "execution_count": 13,
   "metadata": {},
   "outputs": [],
   "source": [
    "def get_levels(data, column):\n",
    "    levels = data[column].unique()\n",
    "    rows = []\n",
    "    for i in levels:\n",
    "        row = OrderedDict()\n",
    "        row['level'] = i\n",
    "        row['no'] = (data[data[column] == i]['no-show'] == 'No').sum()\n",
    "        row['yes'] = (data[data[column] == i]['no-show'] == 'Yes').sum()\n",
    "        row['total'] = float(row['no']+row['yes'])\n",
    "        row['no_pct'] = row['no']/row['total']\n",
    "        row['yes_pct'] = row['yes']/row['total']\n",
    "        rows.append(row)\n",
    "        \n",
    "    new_df = pd.DataFrame(rows, columns=row.keys())\n",
    "    \n",
    "    if column in data.select_dtypes(include=['category']):\n",
    "        new_df['level'] = new_df['level'].astype('category')\n",
    "        new_df['level'].cat.reorder_categories(data[column].cat.categories, inplace=True)\n",
    "        \n",
    "    return new_df\n",
    "\n",
    "def graph(df, column, x='level', y='no_pct'):\n",
    "    \n",
    "    new_df = get_levels(df, column)\n",
    "    sns.barplot(x=x, y=y, data=new_df)\n",
    "    plt.title('Percentage of {} Patients Who Showed Up Based On Level'.format(column))\n",
    "    plt.ylabel('Percentage')\n"
   ]
  },
  {
   "cell_type": "markdown",
   "metadata": {},
   "source": [
    "Next, we want to get a general number for patient who keep their appointments."
   ]
  },
  {
   "cell_type": "code",
   "execution_count": 14,
   "metadata": {},
   "outputs": [
    {
     "data": {
      "text/plain": [
       "No    0.80\n",
       "Yes   0.20\n",
       "Name: no-show, dtype: float64"
      ]
     },
     "execution_count": 14,
     "metadata": {},
     "output_type": "execute_result"
    }
   ],
   "source": [
    "data['no-show'].value_counts(normalize=True)"
   ]
  },
  {
   "cell_type": "markdown",
   "metadata": {},
   "source": [
    "We can see, in general, about 80% of patients keep their medical appointments.\n",
    "\n",
    "Now that we have our tools, and a baseline number, lets look at attendance numbers for the different conditions."
   ]
  },
  {
   "cell_type": "code",
   "execution_count": 15,
   "metadata": {},
   "outputs": [
    {
     "data": {
      "image/png": "[encoded data removed]",
      "text/plain": [
       "<Figure size 432x288 with 1 Axes>"
      ]
     },
     "metadata": {},
     "output_type": "display_data"
    }
   ],
   "source": [
    "graph(data, 'hipertension')"
   ]
  },
  {
   "cell_type": "code",
   "execution_count": 16,
   "metadata": {},
   "outputs": [
    {
     "data": {
      "image/png": "[encoded data removed]",
      "text/plain": [
       "<Figure size 432x288 with 1 Axes>"
      ]
     },
     "metadata": {},
     "output_type": "display_data"
    }
   ],
   "source": [
    "graph(data, 'diabetes')"
   ]
  },
  {
   "cell_type": "code",
   "execution_count": 17,
   "metadata": {},
   "outputs": [
    {
     "data": {
      "image/png": "[encoded data removed]",
      "text/plain": [
       "<Figure size 432x288 with 1 Axes>"
      ]
     },
     "metadata": {},
     "output_type": "display_data"
    }
   ],
   "source": [
    "graph(data, 'alcoholism')"
   ]
  },
  {
   "cell_type": "code",
   "execution_count": 18,
   "metadata": {},
   "outputs": [
    {
     "data": {
      "image/png": "[encoded data removed]",
      "text/plain": [
       "<Figure size 432x288 with 1 Axes>"
      ]
     },
     "metadata": {},
     "output_type": "display_data"
    }
   ],
   "source": [
    "graph(data, 'handcap')"
   ]
  },
  {
   "cell_type": "markdown",
   "metadata": {},
   "source": [
    "There were four specific conditions that were noted in the dataset.\n",
    "\n",
    "- Hypertension\n",
    "- Handicap\n",
    "- Alcoholism\n",
    "- and Diabetes\n",
    "\n",
    "In the graphs above, we look at whether a patient was admitted for a given condition, and calculate the percentage who showed up for their appointment. As we can see from the graphs above, patients who come in for Hypertension, Alcoholism, or Diabetes have similar percentages to our baseline.\n",
    "\n",
    "For handicap patients, there are five separate levels. Unfortunately, there was no information that accompanied the data set to explain what the different levels mean. It can be assumed based on the other the way the other categories are setup that level 0 indicates that handicap was not the reason for the patients appointment. From what we can see, levels 3 and 4 in the handicap category show much lower appearance percentages than the other levels, including those in the other 3 categories."
   ]
  },
  {
   "cell_type": "code",
   "execution_count": 19,
   "metadata": {},
   "outputs": [
    {
     "data": {
      "text/html": [
       "<div>\n",
       "<style scoped>\n",
       "    .dataframe tbody tr th:only-of-type {\n",
       "        vertical-align: middle;\n",
       "    }\n",
       "\n",
       "    .dataframe tbody tr th {\n",
       "        vertical-align: top;\n",
       "    }\n",
       "\n",
       "    .dataframe thead th {\n",
       "        text-align: right;\n",
       "    }\n",
       "</style>\n",
       "<table border=\"1\" class=\"dataframe\">\n",
       "  <thead>\n",
       "    <tr style=\"text-align: right;\">\n",
       "      <th></th>\n",
       "      <th>level</th>\n",
       "      <th>no</th>\n",
       "      <th>yes</th>\n",
       "      <th>total</th>\n",
       "      <th>no_pct</th>\n",
       "      <th>yes_pct</th>\n",
       "    </tr>\n",
       "  </thead>\n",
       "  <tbody>\n",
       "    <tr>\n",
       "      <th>0</th>\n",
       "      <td>0</td>\n",
       "      <td>86373</td>\n",
       "      <td>21909</td>\n",
       "      <td>108282.00</td>\n",
       "      <td>0.80</td>\n",
       "      <td>0.20</td>\n",
       "    </tr>\n",
       "    <tr>\n",
       "      <th>1</th>\n",
       "      <td>1</td>\n",
       "      <td>1676</td>\n",
       "      <td>364</td>\n",
       "      <td>2040.00</td>\n",
       "      <td>0.82</td>\n",
       "      <td>0.18</td>\n",
       "    </tr>\n",
       "    <tr>\n",
       "      <th>2</th>\n",
       "      <td>2</td>\n",
       "      <td>146</td>\n",
       "      <td>37</td>\n",
       "      <td>183.00</td>\n",
       "      <td>0.80</td>\n",
       "      <td>0.20</td>\n",
       "    </tr>\n",
       "    <tr>\n",
       "      <th>3</th>\n",
       "      <td>3</td>\n",
       "      <td>10</td>\n",
       "      <td>3</td>\n",
       "      <td>13.00</td>\n",
       "      <td>0.77</td>\n",
       "      <td>0.23</td>\n",
       "    </tr>\n",
       "    <tr>\n",
       "      <th>4</th>\n",
       "      <td>4</td>\n",
       "      <td>2</td>\n",
       "      <td>1</td>\n",
       "      <td>3.00</td>\n",
       "      <td>0.67</td>\n",
       "      <td>0.33</td>\n",
       "    </tr>\n",
       "  </tbody>\n",
       "</table>\n",
       "</div>"
      ],
      "text/plain": [
       "   level     no    yes     total  no_pct  yes_pct\n",
       "0      0  86373  21909 108282.00    0.80     0.20\n",
       "1      1   1676    364   2040.00    0.82     0.18\n",
       "2      2    146     37    183.00    0.80     0.20\n",
       "3      3     10      3     13.00    0.77     0.23\n",
       "4      4      2      1      3.00    0.67     0.33"
      ]
     },
     "execution_count": 19,
     "metadata": {},
     "output_type": "execute_result"
    }
   ],
   "source": [
    "get_levels(data, 'handcap')"
   ]
  },
  {
   "cell_type": "markdown",
   "metadata": {},
   "source": [
    "However, we can see from the actual data set that the number of people who came in for handicap levels 3 and 4 are too low to claim that it shows a pattern of attendance.\n",
    "\n",
    "Finally, lets look at the remaining categories."
   ]
  },
  {
   "cell_type": "code",
   "execution_count": 20,
   "metadata": {},
   "outputs": [
    {
     "data": {
      "image/png": "[encoded data removed]",
      "text/plain": [
       "<Figure size 432x288 with 1 Axes>"
      ]
     },
     "metadata": {},
     "output_type": "display_data"
    }
   ],
   "source": [
    "graph(data, 'no_cats')"
   ]
  },
  {
   "cell_type": "code",
   "execution_count": 21,
   "metadata": {},
   "outputs": [
    {
     "data": {
      "image/png": "[encoded data removed]",
      "text/plain": [
       "<Figure size 432x288 with 1 Axes>"
      ]
     },
     "metadata": {},
     "output_type": "display_data"
    }
   ],
   "source": [
    "graph(data, 'sms_received')"
   ]
  },
  {
   "cell_type": "code",
   "execution_count": 22,
   "metadata": {},
   "outputs": [
    {
     "data": {
      "image/png": "[encoded data removed]",
      "text/plain": [
       "<Figure size 432x288 with 1 Axes>"
      ]
     },
     "metadata": {},
     "output_type": "display_data"
    }
   ],
   "source": [
    "graph(data, 'age_group')"
   ]
  },
  {
   "cell_type": "code",
   "execution_count": 23,
   "metadata": {},
   "outputs": [
    {
     "data": {
      "image/png": "[encoded data removed]",
      "text/plain": [
       "<Figure size 432x288 with 1 Axes>"
      ]
     },
     "metadata": {},
     "output_type": "display_data"
    }
   ],
   "source": [
    "graph(data, 'day')"
   ]
  },
  {
   "cell_type": "code",
   "execution_count": 24,
   "metadata": {},
   "outputs": [
    {
     "data": {
      "image/png": "[encoded data removed]",
      "text/plain": [
       "<Figure size 432x288 with 1 Axes>"
      ]
     },
     "metadata": {},
     "output_type": "display_data"
    }
   ],
   "source": [
    "graph(data, 'weeks')"
   ]
  },
  {
   "cell_type": "markdown",
   "metadata": {},
   "source": [
    "With this, we can see two specific data points that show a break with the baseline percentage. In terms of age groups, we can see a that older people are more likely to keep their medical appointments vs younger people. This would make sense, as older people generally have health issues that are time sensitive due to their age. Missing an appointment can have serious repercussions on the health of the patient.\n",
    "\n",
    "We can also see that the further the time between the day the appiontment was scheduled and the day of the actual appointment. For appointments that are set more than 1 week out, there's a significant drop in the percentage of patients that show up. One reason for this is patients possibly forgetting their appointments, since they are so far out."
   ]
  },
  {
   "cell_type": "markdown",
   "metadata": {},
   "source": [
    "<a id='conclusions'></a>\n",
    "## Conclusions\n",
    "\n",
    "Overall, the data above is only a small sampling of a data. We have to remember that it only represents a small period of time of 3 months. As such, we can't assume that this data set is representive of the full population. Furthermore, some of the data points are not clear. Our handicap category have 5 different levels, but there was no information on what those levels represent. Also, for our sms received message, we don't know how the delivery occurred. We don't know if it was sent just once or multiple times, or if it was sent on the day the schedule occurred, or the day prior to the appointment. Knowing this can change our understanding of our statsitical analysis.\n",
    "\n",
    "With that being said, based on the data we have we can see that most of our other data points have around the baseline percentage of 80% of appointees keeping their appointments. The only categories that seem to indicate some pattern as to a patient attending their appointment date is the time between the appointment and the day it was scheduled, and the patients age. This makes some intuitive sense, as older people have a greater importance on keeping track of their health, and dates that are far out from their original schedule can be forgotten or changed."
   ]
  }
 ],
 "metadata": {
  "kernelspec": {
   "display_name": "Python 3",
   "language": "python",
   "name": "python3"
  },
  "language_info": {
   "codemirror_mode": {
    "name": "ipython",
    "version": 3
   },
   "file_extension": ".py",
   "mimetype": "text/x-python",
   "name": "python",
   "nbconvert_exporter": "python",
   "pygments_lexer": "ipython3",
   "version": "3.6.5"
  }
 },
 "nbformat": 4,
 "nbformat_minor": 2
}
