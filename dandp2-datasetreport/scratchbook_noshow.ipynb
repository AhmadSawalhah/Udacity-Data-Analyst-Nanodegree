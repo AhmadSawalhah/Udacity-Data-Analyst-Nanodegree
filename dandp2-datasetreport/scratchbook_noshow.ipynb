{
 "cells": [
  {
   "cell_type": "code",
   "execution_count": null,
   "metadata": {
    "collapsed": true
   },
   "outputs": [],
   "source": [
    "import numpy as np\n",
    "import pandas as pd\n",
    "import matplotlib.pyplot as plt\n",
    "import seaborn as sns\n",
    "\n",
    "%matplotlib inline\n",
    "sns.set()\n",
    "pd.set_option('display.float_format', lambda x: '%.2f' % x)"
   ]
  },
  {
   "cell_type": "code",
   "execution_count": null,
   "metadata": {
    "collapsed": true
   },
   "outputs": [],
   "source": [
    "def remove_zeroes(df, cols):\n",
    "    for key in cols:\n",
    "        df = df[df[key] != 0].copy()\n",
    "    return df\n",
    "\n",
    "data = pd.read_csv('noshowappointments-kagglev2-may-2016.csv')"
   ]
  },
  {
   "cell_type": "code",
   "execution_count": null,
   "metadata": {},
   "outputs": [],
   "source": [
    "data.head(5)"
   ]
  },
  {
   "cell_type": "code",
   "execution_count": null,
   "metadata": {},
   "outputs": [],
   "source": [
    "data.describe()"
   ]
  },
  {
   "cell_type": "markdown",
   "metadata": {
    "collapsed": true
   },
   "source": [
    "## Things to do\n",
    "\n",
    "1. Column DataType Changes\n",
    "    - PatientId = Object (or a ID type if pandas has that)\n",
    "    - Scholarship = Category\n",
    "    - Hipertension = Category\n",
    "    - Diabetes = Category\n",
    "    - Alcoholism = Category\n",
    "    - Handicap = Category\n",
    "    - SMS_received = Category\n",
    "    - No_Shows = Category\n",
    "    \n",
    "2. Remove outliers\n",
    "    - a -1.00 age needs to be removed. 0 age may refer to babies, so that may stay the same.\n",
    "    \n",
    "3. Visualizations\n",
    "    - Bar chart of major categories (Scholarship, Hipertension, Diabetes, Alcoholism, and Handcap)"
   ]
  },
  {
   "cell_type": "code",
   "execution_count": null,
   "metadata": {},
   "outputs": [],
   "source": [
    "data.info()"
   ]
  },
  {
   "cell_type": "code",
   "execution_count": null,
   "metadata": {},
   "outputs": [],
   "source": [
    "major_cats_alt = ['Scholarship', 'Hipertension', 'Diabetes', 'Alcoholism', 'Handcap', 'SMS_received']\n",
    "no_shows = data[data['No-show'] == 'Yes']\n",
    "shows = data[data['No-show']]"
   ]
  },
  {
   "cell_type": "code",
   "execution_count": null,
   "metadata": {},
   "outputs": [],
   "source": [
    "no_shows[major_cats_alt].sum()"
   ]
  },
  {
   "cell_type": "code",
   "execution_count": null,
   "metadata": {
    "collapsed": true
   },
   "outputs": [],
   "source": []
  }
 ],
 "metadata": {
  "kernelspec": {
   "display_name": "Python 2",
   "language": "python",
   "name": "python2"
  },
  "language_info": {
   "codemirror_mode": {
    "name": "ipython",
    "version": 2
   },
   "file_extension": ".py",
   "mimetype": "text/x-python",
   "name": "python",
   "nbconvert_exporter": "python",
   "pygments_lexer": "ipython2",
   "version": "2.7.13"
  }
 },
 "nbformat": 4,
 "nbformat_minor": 2
}
