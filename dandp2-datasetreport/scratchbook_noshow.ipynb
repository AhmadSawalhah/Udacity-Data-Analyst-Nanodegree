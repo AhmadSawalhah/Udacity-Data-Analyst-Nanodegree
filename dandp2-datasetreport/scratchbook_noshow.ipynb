{
 "cells": [
  {
   "cell_type": "code",
   "execution_count": null,
   "metadata": {
    "collapsed": true
   },
   "outputs": [],
   "source": [
    "import numpy as np\n",
    "import pandas as pd\n",
    "import matplotlib.pyplot as plt\n",
    "import seaborn as sns\n",
    "import calendar as cal\n",
    "from collections import OrderedDict\n",
    "\n",
    "%matplotlib inline\n",
    "sns.set()\n",
    "pd.set_option('display.float_format', lambda x: '%.2f' % x)"
   ]
  },
  {
   "cell_type": "markdown",
   "metadata": {},
   "source": [
    "###Cleaning the Data\n",
    "\n",
    "- We create labels and ranges for age groups\n",
    "- Remove any data points with ages less than 0 (not possible) and drop all duplicates that has the patient appearing mulitple times on the same day (can be an error or actual scheduling on the same day, remove all just to be sure).\n"
   ]
  },
  {
   "cell_type": "code",
   "execution_count": null,
   "metadata": {},
   "outputs": [],
   "source": [
    "bins = [0, 1, 4, 9, 13, 18, 35, 55, np.inf]\n",
    "labels = ['baby', 'toddler', 'gradeschool', 'preteen', 'teenager', 'youngadult', 'middle-aged', 'elder']\n",
    "patient_headers = ['PatientId']\n",
    "cats = ['Scholarship', 'Hipertension', 'Diabetes', 'Alcoholism', 'Handcap', 'SMS_received']\n",
    "\n",
    "data = (pd.read_csv('noshowappointments-kagglev2-may-2016.csv', encoding='utf8', dtype={'PatientId': object, 'AppointmentID': object})\n",
    "            .query(\"Age >= 0\")\n",
    "            .drop_duplicates(subset=['PatientId', 'AppointmentDay'], keep=False)\n",
    "            .assign(ScheduledDay=lambda x: pd.to_datetime(pd.to_datetime(x['ScheduledDay']).dt.date),\n",
    "                    AppointmentDay=lambda x: pd.to_datetime(x['AppointmentDay']),\n",
    "                    age_group=lambda x: pd.cut(x['Age'], bins, labels=labels, include_lowest=True),\n",
    "                    yes=lambda x: (x['No-show'] == 'Yes').astype(int),\n",
    "                    no=lambda x: (x['No-show'] == 'No').astype(int)))\n",
    "\n",
    "def noshow_counts(df, columns):\n",
    "    df = df.copy()\n",
    "    return df.groupby(columns)['No-show'].value_counts().unstack(1).reset_index()\n",
    "\n",
    "def get_noshow_ratio(df):\n",
    "    return df['Yes']/(df['No']+df['Yes'])\n",
    "\n",
    "def get_percentage(data, columns):\n",
    "    rows = []\n",
    "    for column in columns:\n",
    "        filtered = data[column] != 1\n",
    "        row = OrderedDict()\n",
    "        row['Category'] = column\n",
    "        row['No'] = data[filtered]['no'].sum()\n",
    "        row['Yes'] = data[filtered]['yes'].sum()\n",
    "        row['Total'] = row['Yes'] + row['No']\n",
    "        row['Perc'] = row['No'] / float(row['Total'])\n",
    "        rows.append(row)\n",
    "    return pd.DataFrame(rows, columns=rows[0].keys())\n",
    "\n",
    "def get_levels(df, column):\n",
    "    levels = df[column].unique()\n",
    "    rows = []\n",
    "    for i in levels:\n",
    "        row = OrderedDict()\n",
    "        row['level'] = i\n",
    "        row['no'] = df[df[column] == i]['no'].sum()\n",
    "        row['yes'] = df[df[column] == i]['yes'].sum()\n",
    "        row['total'] = float(row['no']+row['yes'])\n",
    "        row['no_pct'] = row['no']/row['total']\n",
    "        row['yes_pct'] = row['yes']/row['total']\n",
    "        rows.append(row)\n",
    "        \n",
    "    new_df = pd.DataFrame(rows, columns=row.keys())\n",
    "    \n",
    "    if column in df.select_dtypes(include=['category']):\n",
    "        new_df['level'] = new_df['level'].astype('category')\n",
    "        new_df['level'].cat.reorder_categories(df[column].cat.categories, inplace=True)\n",
    "\n",
    "    sns.barplot(x='level', y='no_pct', data=new_df)\n",
    "    sns.plt.title('Percentage of {} by Level'.format(column))\n",
    "    sns.plt.ylabel('Percentage')\n",
    "\n",
    "#no_cats_matched = data[data[cats].apply(lambda x: min(x) == max(x), 1)]\n",
    "data['no_cat'] = data[cats].apply(lambda x: min(x) == max(x), 1)\n",
    "data['day'] = data['AppointmentDay'].apply(lambda x: cal.day_name[x.weekday()]).astype('category')\n",
    "data['day'].cat.reorder_categories(list(cal.day_name)[:6], inplace=True)\n",
    "data.age_group.cat.reorder_categories(labels, ordered=True, inplace=True)\n",
    "cats.append('no_cat')"
   ]
  },
  {
   "cell_type": "markdown",
   "metadata": {},
   "source": [
    "## Changes to the Data Read\n",
    "\n",
    "- Change PatientId and AppointId to object types (they were coming in as integers and made queryies awkward)\n",
    "- Make a query for ages greater than or equal to 0 (some entries had ages of -1, and I wasn't sure what that exactly spoke to)\n",
    "- Drop duplicates of PatientId and AppointmentDay. (Mutiple entires for the patient on the same day)\n",
    "- Create/Changed several columns:\n",
    "    - ScheduledDay => Changed type to date_time\n",
    "    - age_group => Added an age group category that categorizes segments of ages\n",
    "    - Yes => An explicit yes on attendance\n",
    "    - No => An explicit no on attendance"
   ]
  },
  {
   "cell_type": "code",
   "execution_count": null,
   "metadata": {},
   "outputs": [],
   "source": [
    "data['day'].cat.reorder_categories(list(cal.day_name)[:6], inplace=True)\n",
    "#list(cal.day_name)[:6]"
   ]
  },
  {
   "cell_type": "code",
   "execution_count": null,
   "metadata": {},
   "outputs": [],
   "source": [
    "for cat in cats:\n",
    "    print(\"{} => {}\".format(cat, data[cat].unique()))"
   ]
  },
  {
   "cell_type": "markdown",
   "metadata": {},
   "source": [
    "## Breakdown by Category\n",
    "\n",
    "I performed a simple calculation to see what are the percentage of people who came in under one of the categories did not come in. Patients who exhibited Hyptertension came in the most times for their appointments, while peopel who received SMS's did not. However, the percentages are still close, and don't seem to show any patterns that can show the likelihood of a patient appearing.\n",
    "\n",
    "Some other things to look at regarding categories:\n",
    "- Percentage of patients that came in who didn't fit any categories\n",
    "- Percentage of patients who came in with multiple categories"
   ]
  },
  {
   "cell_type": "code",
   "execution_count": null,
   "metadata": {},
   "outputs": [],
   "source": [
    "cats_percentage = data.pipe(get_percentage, cats)\n",
    "sns.barplot(x='Category', y='Perc', data=cats_percentage)"
   ]
  },
  {
   "cell_type": "code",
   "execution_count": null,
   "metadata": {},
   "outputs": [],
   "source": [
    "def get_levels(df, column):\n",
    "    levels = df[column].unique()\n",
    "    rows = []\n",
    "    for i in levels:\n",
    "        row = OrderedDict()\n",
    "        row['level'] = i\n",
    "        row['no'] = df[df[column] == i]['no'].sum()\n",
    "        row['yes'] = df[df[column] == i]['yes'].sum()\n",
    "        row['total'] = float(row['no']+row['yes'])\n",
    "        row['no_pct'] = row['no']/row['total']\n",
    "        row['yes_pct'] = row['yes']/row['total']\n",
    "        rows.append(row)\n",
    "        \n",
    "    new_df = pd.DataFrame(rows, columns=row.keys())\n",
    "    \n",
    "    if column in df.select_dtypes(include=['category']):\n",
    "        new_df['level'] = new_df['level'].astype('category')\n",
    "        new_df['level'].cat.reorder_categories(df[column].cat.categories, inplace=True)\n",
    "\n",
    "    sns.barplot(x='level', y='no_pct', data=new_df)\n",
    "    sns.plt.title('Percentage of {} by Level'.format(column))\n",
    "    sns.plt.ylabel('Percentage')\n",
    "\n",
    "get_levels(data, 'day')"
   ]
  },
  {
   "cell_type": "code",
   "execution_count": null,
   "metadata": {},
   "outputs": [],
   "source": [
    "data['day'].dtype == 'category'"
   ]
  },
  {
   "cell_type": "code",
   "execution_count": null,
   "metadata": {
    "collapsed": true
   },
   "outputs": [],
   "source": [
    "get_levels(data, 'Scholarship')"
   ]
  },
  {
   "cell_type": "code",
   "execution_count": null,
   "metadata": {
    "collapsed": true
   },
   "outputs": [],
   "source": [
    "get_levels(data, 'Hipertension')"
   ]
  },
  {
   "cell_type": "code",
   "execution_count": null,
   "metadata": {},
   "outputs": [],
   "source": [
    "get_levels(data, 'age_group')"
   ]
  },
  {
   "cell_type": "code",
   "execution_count": null,
   "metadata": {},
   "outputs": [],
   "source": [
    "get_levels(data, 'day')"
   ]
  },
  {
   "cell_type": "code",
   "execution_count": null,
   "metadata": {},
   "outputs": [],
   "source": [
    "get_levels(data, 'Age')"
   ]
  },
  {
   "cell_type": "code",
   "execution_count": null,
   "metadata": {},
   "outputs": [],
   "source": [
    "data['day'] = data['AppointmentDay'].apply(lambda x: cal.day_name[x.weekday()])\n",
    "data"
   ]
  },
  {
   "cell_type": "code",
   "execution_count": null,
   "metadata": {},
   "outputs": [],
   "source": [
    "data['age_group'].value_counts().plot.bar()"
   ]
  },
  {
   "cell_type": "code",
   "execution_count": null,
   "metadata": {},
   "outputs": [],
   "source": [
    "age_groups = data.groupby('age_group')\n",
    "age_groups['Alcoholism'].sum()"
   ]
  },
  {
   "cell_type": "code",
   "execution_count": null,
   "metadata": {},
   "outputs": [],
   "source": [
    "data[['PatientId', 'AppointmentDay']].duplicated()"
   ]
  },
  {
   "cell_type": "markdown",
   "metadata": {
    "collapsed": true
   },
   "source": [
    "## Things to do\n",
    "\n",
    "1. Column DataType Changes\n",
    "    - PatientId = Object (or a ID type if pandas has that)\n",
    "    - Scholarship = Category\n",
    "    - Hipertension = Category\n",
    "    - Diabetes = Category\n",
    "    - Alcoholism = Category\n",
    "    - Handicap = Category\n",
    "    - SMS_received = Category\n",
    "    - No_Shows = Category\n",
    "    \n",
    "2. Remove outliers\n",
    "    - a -1.00 age needs to be removed. 0 age may refer to babies, so that may stay the same.\n",
    "    \n",
    "3. Visualizations\n",
    "    - Bar chart of major categories (Scholarship, Hipertension, Diabetes, Alcoholism, and Handcap)"
   ]
  },
  {
   "cell_type": "code",
   "execution_count": null,
   "metadata": {},
   "outputs": [],
   "source": [
    "data.info()"
   ]
  },
  {
   "cell_type": "code",
   "execution_count": null,
   "metadata": {},
   "outputs": [],
   "source": [
    "major_cats_alt = ['Scholarship', 'Hipertension', 'Diabetes', 'Alcoholism', 'Handcap', 'SMS_received']\n",
    "major_cats_alt_no_show = ['Scholarship', 'Hipertension', 'Diabetes', 'Alcoholism', 'Handcap', 'SMS_received', 'No-show']\n",
    "no_shows = data[data['No-show'] == 'Yes']\n",
    "no_shows.mean(numeric_only=True)"
   ]
  },
  {
   "cell_type": "code",
   "execution_count": null,
   "metadata": {},
   "outputs": [],
   "source": [
    "shows = data[data['No-show'] == 'No']\n",
    "shows.std(numeric_only=True)"
   ]
  },
  {
   "cell_type": "code",
   "execution_count": null,
   "metadata": {},
   "outputs": [],
   "source": [
    "age_comparison = data[['Age', 'No-show']]\n",
    "age_comparison.info()"
   ]
  },
  {
   "cell_type": "code",
   "execution_count": null,
   "metadata": {},
   "outputs": [],
   "source": [
    "bins = [0, 1, 4, 9, 13, 18, 35, 55, np.inf]\n",
    "labels = ['baby', 'toddler', 'gradeschool', 'preteen', 'teenager', 'youngadult', 'middle-aged', 'elder']\n",
    "data['age_groups'] = pd.cut(data['Age'], bins, labels=labels, include_lowest=True)\n",
    "\n",
    "age_comparison = (data.pipe(noshow_counts, ['age_groups'])\n",
    "                      .set_index('age_groups')\n",
    "                      .fillna(0)\n",
    "                      .assign(noshow_ratio=get_noshow_ratio))\n",
    "\n",
    "age_comparison.plot.bar()\n",
    "age_comparison"
   ]
  },
  {
   "cell_type": "code",
   "execution_count": null,
   "metadata": {},
   "outputs": [],
   "source": [
    "data[major_cats_alt_no_show].groupby('No-show').sum().T.plot.bar()"
   ]
  },
  {
   "cell_type": "code",
   "execution_count": null,
   "metadata": {},
   "outputs": [],
   "source": [
    "data[major_cats_alt_no_show].groupby('No-show').sum()"
   ]
  },
  {
   "cell_type": "code",
   "execution_count": null,
   "metadata": {
    "collapsed": true
   },
   "outputs": [],
   "source": [
    "data[major_cats_alt].filter?"
   ]
  },
  {
   "cell_type": "code",
   "execution_count": null,
   "metadata": {
    "collapsed": true
   },
   "outputs": [],
   "source": [
    "data[major_cats_alt].filter"
   ]
  },
  {
   "cell_type": "code",
   "execution_count": null,
   "metadata": {},
   "outputs": [],
   "source": [
    "no_select = data.copy()\n",
    "no_select['No-selection'] = data.filter(major_cats_alt).eq(0).all(1)\n",
    "no_select"
   ]
  },
  {
   "cell_type": "code",
   "execution_count": null,
   "metadata": {},
   "outputs": [],
   "source": [
    "selections = data.copy()\n",
    "selections['Selections'] = data[major_cats_alt].sum(axis=1)\n",
    "selections = selections.groupby('Selections')['No-show'].value_counts().unstack(1)\n",
    "selections.apply(lambda x: x/selections.sum().sum())"
   ]
  },
  {
   "cell_type": "code",
   "execution_count": null,
   "metadata": {},
   "outputs": [],
   "source": [
    "data['PatientId'].value_counts().max()"
   ]
  },
  {
   "cell_type": "code",
   "execution_count": null,
   "metadata": {},
   "outputs": [],
   "source": [
    "patient_counts = data.copy()\n",
    "patient_counts['freq'] = data.groupby('PatientId')['PatientId'].transform('count')\n",
    "patient_counts = patient_counts.groupby('freq')['No-show'].value_counts().unstack(1).reset_index().fillna(0)\n",
    "patient_counts['Patients'] = patient_counts.apply(lambda x: (x['No']+x['Yes'])/x['freq'], axis=1)\n",
    "patient_counts['% of Missed'] = patient_counts['Yes']/(patient_counts['No']+patient_counts['Yes'])\n",
    "patient_counts.plot.scatter(x='freq', y='% of Missed', marker='o', c='b')"
   ]
  },
  {
   "cell_type": "code",
   "execution_count": null,
   "metadata": {},
   "outputs": [],
   "source": [
    "sns.lmplot(x='freq', y='% of Missed', data=patient_counts)"
   ]
  },
  {
   "cell_type": "code",
   "execution_count": null,
   "metadata": {},
   "outputs": [],
   "source": [
    "gender = data.groupby('Gender')['No-show'].value_counts().unstack(1)\n",
    "gender"
   ]
  },
  {
   "cell_type": "code",
   "execution_count": null,
   "metadata": {},
   "outputs": [],
   "source": [
    "neighbourhoods = data.groupby('Neighbourhood')['No-show'].value_counts().unstack(1)\n",
    "neighbourhoods['% of Missed'] = neighbourhoods['Yes']/(neighbourhoods['No']+neighbourhoods['Yes'])\n",
    "neighbourhoods['total'] = neighbourhoods.iloc[:, :2].sum(axis=1)\n",
    "neighbourhoods.sort_values('% of Missed', ascending=False)"
   ]
  },
  {
   "cell_type": "code",
   "execution_count": null,
   "metadata": {},
   "outputs": [],
   "source": [
    "data.info()"
   ]
  },
  {
   "cell_type": "code",
   "execution_count": null,
   "metadata": {},
   "outputs": [],
   "source": [
    "test = data.copy()\n",
    "test['ScheduledDay'] = pd.to_datetime(pd.to_datetime(test['ScheduledDay']).dt.date)\n",
    "test['AppointmentDay'] = pd.to_datetime(test['AppointmentDay'])\n",
    "test['days_left'] = test['AppointmentDay'] - test['ScheduledDay']\n",
    "test = test.groupby('days_left')['No-show'].value_counts().unstack(1).fillna(0).reset_index()\n",
    "test = test.query('days_left >= \"0 days\"')\n",
    "q = pd.cut(test.days_left, 15)\n",
    "new = test.groupby(q).sum()\n",
    "new['%'] = new['Yes']/(new['No']+new['Yes'])\n",
    "new"
   ]
  },
  {
   "cell_type": "code",
   "execution_count": null,
   "metadata": {},
   "outputs": [],
   "source": [
    "data.groupby('No-show')['No-show'].transform('value_counts')"
   ]
  },
  {
   "cell_type": "code",
   "execution_count": null,
   "metadata": {
    "collapsed": true
   },
   "outputs": [],
   "source": []
  },
  {
   "cell_type": "code",
   "execution_count": null,
   "metadata": {
    "collapsed": true
   },
   "outputs": [],
   "source": []
  },
  {
   "cell_type": "code",
   "execution_count": null,
   "metadata": {
    "collapsed": true
   },
   "outputs": [],
   "source": []
  }
 ],
 "metadata": {
  "kernelspec": {
   "display_name": "Python [default]",
   "language": "python",
   "name": "python2"
  },
  "language_info": {
   "codemirror_mode": {
    "name": "ipython",
    "version": 2
   },
   "file_extension": ".py",
   "mimetype": "text/x-python",
   "name": "python",
   "nbconvert_exporter": "python",
   "pygments_lexer": "ipython2",
   "version": "2.7.13"
  }
 },
 "nbformat": 4,
 "nbformat_minor": 2
}
