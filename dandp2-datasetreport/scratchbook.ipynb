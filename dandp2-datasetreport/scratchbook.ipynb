{
 "cells": [
  {
   "cell_type": "code",
   "execution_count": null,
   "metadata": {
    "collapsed": true
   },
   "outputs": [],
   "source": [
    "%matplotlib inline\n",
    "import pandas as pd\n",
    "import numpy as np\n",
    "import seaborn as sns\n",
    "import scipy.stats as st\n",
    "import matplotlib.pyplot as plt\n",
    "\n",
    "pd.set_option('display.float_format', lambda x: '%.2f' % x)\n",
    "\n",
    "players = pd.read_csv('core/Master.csv')\n",
    "salary = (pd.read_csv('core/Salaries.csv'))"
   ]
  },
  {
   "cell_type": "markdown",
   "metadata": {},
   "source": [
    "## Questions to Answer\n",
    "\n",
    "1. How has the salary for baseball been over the history of the MLB? Total? Average?\n",
    "2. Whats the correlation between performance and salary?\n",
    "3. What positions garner the highest salaries?\n",
    "4. How is the wage disparity for baseball players? Top heavy? Even?\n",
    "5. Do teams with high salaries win championships?\n",
    "\n",
    "## What Needs to be Done\n",
    "\n",
    "1. Need to convert the salaries dataframe to a timeindex dataframe. This will let us do a plot of salary changes over time.\n",
    "2. Adjust salaries to inflation.\n",
    "3. "
   ]
  },
  {
   "cell_type": "code",
   "execution_count": null,
   "metadata": {},
   "outputs": [],
   "source": [
    "salary_by_year = salary.groupby(['yearID'])\n",
    "salary_plot = salary_by_year['salary'].agg([{'Average': np.mean, 'Total': np.sum, 'Min': np.min, 'Max': np.max, \"Median\": np.median}])\n",
    "salary_plot.columns = salary_plot.columns.droplevel(0)\n",
    "salary_plot = (salary_plot.assign(q_25=salary_by_year.quantile(.25))\n",
    "                          .assign(q_75=salary_by_year.quantile(.75)))\n",
    "salary_plot[['Max', 'q_25', 'Average', 'Median', 'q_75', 'Min']].plot(figsize=(17, 12))\n",
    "salary_plot.loc[2000:2015]"
   ]
  },
  {
   "cell_type": "code",
   "execution_count": null,
   "metadata": {},
   "outputs": [],
   "source": [
    "salary_by_player_year = salary.groupby(['yearID'])\n",
    "top_ten_by_year = salary_by_player_year.apply(lambda x: x.nlargest(10, 'salary'))\n",
    "\n",
    "sorted_salary = salary.sort_values('salary', ascending=False)\n",
    "sorted_salary.groupby('yearID').apply(lambda x: x['salary'].iloc[0] - x['salary'].median())\n",
    "top_ten_by_year.loc[2013]"
   ]
  },
  {
   "cell_type": "markdown",
   "metadata": {},
   "source": [
    "Why do some baseball players have a salary of 0??"
   ]
  },
  {
   "cell_type": "code",
   "execution_count": null,
   "metadata": {},
   "outputs": [],
   "source": [
    "salary[salary['yearID'] == 2016]['salary'].hist()"
   ]
  },
  {
   "cell_type": "code",
   "execution_count": null,
   "metadata": {
    "scrolled": true
   },
   "outputs": [],
   "source": [
    "plot_salary_sum = salary_by_year.sum().plot(figsize=(12,6))\n",
    "plot_salary_sum.set(xlabel='Year', ylabel=\"Sum of Salaries\")\n",
    "plt.tight_layout()"
   ]
  },
  {
   "cell_type": "code",
   "execution_count": null,
   "metadata": {},
   "outputs": [],
   "source": [
    "salary.groupby(['teamID']).mean().sort_values('salary', ascending=False)"
   ]
  },
  {
   "cell_type": "code",
   "execution_count": null,
   "metadata": {
    "collapsed": true
   },
   "outputs": [],
   "source": []
  },
  {
   "cell_type": "code",
   "execution_count": null,
   "metadata": {
    "collapsed": true
   },
   "outputs": [],
   "source": []
  },
  {
   "cell_type": "code",
   "execution_count": null,
   "metadata": {
    "collapsed": true
   },
   "outputs": [],
   "source": []
  }
 ],
 "metadata": {
  "kernelspec": {
   "display_name": "Python [default]",
   "language": "python",
   "name": "python2"
  },
  "language_info": {
   "codemirror_mode": {
    "name": "ipython",
    "version": 2
   },
   "file_extension": ".py",
   "mimetype": "text/x-python",
   "name": "python",
   "nbconvert_exporter": "python",
   "pygments_lexer": "ipython2",
   "version": "2.7.13"
  }
 },
 "nbformat": 4,
 "nbformat_minor": 2
}
