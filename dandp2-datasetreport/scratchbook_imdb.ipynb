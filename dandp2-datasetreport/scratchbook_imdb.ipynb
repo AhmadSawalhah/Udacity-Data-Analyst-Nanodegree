{
 "cells": [
  {
   "cell_type": "code",
   "execution_count": 60,
   "metadata": {
    "collapsed": true
   },
   "outputs": [],
   "source": [
    "import numpy as np\n",
    "import pandas as pd\n",
    "import matplotlib.pyplot as plt\n",
    "import seaborn as sns\n",
    "\n",
    "%matplotlib inline\n",
    "sns.set()\n",
    "pd.set_option('display.float_format', lambda x: '%.2f' % x)"
   ]
  },
  {
   "cell_type": "code",
   "execution_count": 36,
   "metadata": {
    "collapsed": true
   },
   "outputs": [],
   "source": [
    "def remove_zeroes(df, cols):\n",
    "    for key in cols:\n",
    "        df = df[df[key] != 0].copy()\n",
    "    return df\n",
    "\n",
    "movies = pd.read_csv('tmdb-movies.csv')"
   ]
  },
  {
   "cell_type": "code",
   "execution_count": 39,
   "metadata": {
    "collapsed": true
   },
   "outputs": [],
   "source": [
    "cleaned_movies = movies.pipe(remove_zeroes, cols=['budget', 'revenue', 'runtime'])"
   ]
  },
  {
   "cell_type": "code",
   "execution_count": 61,
   "metadata": {},
   "outputs": [
    {
     "data": {
      "text/plain": [
       "(array([  7.26309264e-09,   1.75422153e-09,   6.96652568e-10,\n",
       "          4.19670222e-10,   1.90250501e-10,   1.28698868e-10,\n",
       "          7.83384414e-11,   6.15516325e-11,   6.43494340e-11,\n",
       "          4.47648237e-11,   2.79780148e-11,   1.95846104e-11,\n",
       "          8.39340444e-12,   5.59560296e-12,   2.79780148e-12,\n",
       "          2.79780148e-12,   8.39340444e-12,   0.00000000e+00,\n",
       "          0.00000000e+00,   2.79780148e-12,   0.00000000e+00,\n",
       "          0.00000000e+00,   2.79780148e-12,   0.00000000e+00,\n",
       "          0.00000000e+00,   0.00000000e+00,   0.00000000e+00,\n",
       "          0.00000000e+00,   0.00000000e+00,   2.79780148e-12]),\n",
       " array([  2.00000000e+00,   9.27168635e+07,   1.85433725e+08,\n",
       "          2.78150586e+08,   3.70867448e+08,   4.63584310e+08,\n",
       "          5.56301171e+08,   6.49018032e+08,   7.41734894e+08,\n",
       "          8.34451756e+08,   9.27168617e+08,   1.01988548e+09,\n",
       "          1.11260234e+09,   1.20531920e+09,   1.29803606e+09,\n",
       "          1.39075292e+09,   1.48346979e+09,   1.57618665e+09,\n",
       "          1.66890351e+09,   1.76162037e+09,   1.85433723e+09,\n",
       "          1.94705409e+09,   2.03977096e+09,   2.13248782e+09,\n",
       "          2.22520468e+09,   2.31792154e+09,   2.41063840e+09,\n",
       "          2.50335526e+09,   2.59607212e+09,   2.68878899e+09,\n",
       "          2.78150585e+09]),\n",
       " <a list of 30 Patch objects>)"
      ]
     },
     "execution_count": 61,
     "metadata": {},
     "output_type": "execute_result"
    },
    {
     "data": {
      "image/png": "[encoded data removed]",
      "text/plain": [
       "<matplotlib.figure.Figure at 0x11b919a10>"
      ]
     },
     "metadata": {},
     "output_type": "display_data"
    }
   ],
   "source": [
    "plt.hist(cleaned_movies['revenue'], bins=30, normed=True)"
   ]
  },
  {
   "cell_type": "code",
   "execution_count": 62,
   "metadata": {},
   "outputs": [
    {
     "data": {
      "text/html": [
       "<div>\n",
       "<style>\n",
       "    .dataframe thead tr:only-child th {\n",
       "        text-align: right;\n",
       "    }\n",
       "\n",
       "    .dataframe thead th {\n",
       "        text-align: left;\n",
       "    }\n",
       "\n",
       "    .dataframe tbody tr th {\n",
       "        vertical-align: top;\n",
       "    }\n",
       "</style>\n",
       "<table border=\"1\" class=\"dataframe\">\n",
       "  <thead>\n",
       "    <tr style=\"text-align: right;\">\n",
       "      <th></th>\n",
       "      <th>id</th>\n",
       "      <th>popularity</th>\n",
       "      <th>budget</th>\n",
       "      <th>revenue</th>\n",
       "      <th>runtime</th>\n",
       "      <th>vote_count</th>\n",
       "      <th>vote_average</th>\n",
       "      <th>release_year</th>\n",
       "      <th>budget_adj</th>\n",
       "      <th>revenue_adj</th>\n",
       "    </tr>\n",
       "  </thead>\n",
       "  <tbody>\n",
       "    <tr>\n",
       "      <th>count</th>\n",
       "      <td>3855.00</td>\n",
       "      <td>3855.00</td>\n",
       "      <td>3855.00</td>\n",
       "      <td>3855.00</td>\n",
       "      <td>3855.00</td>\n",
       "      <td>3855.00</td>\n",
       "      <td>3855.00</td>\n",
       "      <td>3855.00</td>\n",
       "      <td>3855.00</td>\n",
       "      <td>3855.00</td>\n",
       "    </tr>\n",
       "    <tr>\n",
       "      <th>mean</th>\n",
       "      <td>39888.78</td>\n",
       "      <td>1.19</td>\n",
       "      <td>37201828.29</td>\n",
       "      <td>107658932.67</td>\n",
       "      <td>109.22</td>\n",
       "      <td>527.61</td>\n",
       "      <td>6.17</td>\n",
       "      <td>2001.26</td>\n",
       "      <td>44236299.18</td>\n",
       "      <td>137029386.10</td>\n",
       "    </tr>\n",
       "    <tr>\n",
       "      <th>std</th>\n",
       "      <td>67213.82</td>\n",
       "      <td>1.48</td>\n",
       "      <td>42202907.91</td>\n",
       "      <td>176524809.56</td>\n",
       "      <td>19.92</td>\n",
       "      <td>879.87</td>\n",
       "      <td>0.80</td>\n",
       "      <td>11.28</td>\n",
       "      <td>44804027.33</td>\n",
       "      <td>216094430.04</td>\n",
       "    </tr>\n",
       "    <tr>\n",
       "      <th>min</th>\n",
       "      <td>5.00</td>\n",
       "      <td>0.00</td>\n",
       "      <td>1.00</td>\n",
       "      <td>2.00</td>\n",
       "      <td>15.00</td>\n",
       "      <td>10.00</td>\n",
       "      <td>2.20</td>\n",
       "      <td>1960.00</td>\n",
       "      <td>0.97</td>\n",
       "      <td>2.37</td>\n",
       "    </tr>\n",
       "    <tr>\n",
       "      <th>25%</th>\n",
       "      <td>6074.00</td>\n",
       "      <td>0.46</td>\n",
       "      <td>10000000.00</td>\n",
       "      <td>13576449.50</td>\n",
       "      <td>95.00</td>\n",
       "      <td>71.00</td>\n",
       "      <td>5.70</td>\n",
       "      <td>1995.00</td>\n",
       "      <td>13090528.47</td>\n",
       "      <td>18341233.69</td>\n",
       "    </tr>\n",
       "    <tr>\n",
       "      <th>50%</th>\n",
       "      <td>11322.00</td>\n",
       "      <td>0.80</td>\n",
       "      <td>24000000.00</td>\n",
       "      <td>44793222.00</td>\n",
       "      <td>106.00</td>\n",
       "      <td>204.00</td>\n",
       "      <td>6.20</td>\n",
       "      <td>2004.00</td>\n",
       "      <td>30015580.40</td>\n",
       "      <td>61718613.20</td>\n",
       "    </tr>\n",
       "    <tr>\n",
       "      <th>75%</th>\n",
       "      <td>38577.00</td>\n",
       "      <td>1.37</td>\n",
       "      <td>50000000.00</td>\n",
       "      <td>124152957.50</td>\n",
       "      <td>119.00</td>\n",
       "      <td>580.00</td>\n",
       "      <td>6.70</td>\n",
       "      <td>2010.00</td>\n",
       "      <td>60613069.68</td>\n",
       "      <td>163240089.71</td>\n",
       "    </tr>\n",
       "    <tr>\n",
       "      <th>max</th>\n",
       "      <td>417859.00</td>\n",
       "      <td>32.99</td>\n",
       "      <td>425000000.00</td>\n",
       "      <td>2781505847.00</td>\n",
       "      <td>338.00</td>\n",
       "      <td>9767.00</td>\n",
       "      <td>8.40</td>\n",
       "      <td>2015.00</td>\n",
       "      <td>425000000.00</td>\n",
       "      <td>2827123750.41</td>\n",
       "    </tr>\n",
       "  </tbody>\n",
       "</table>\n",
       "</div>"
      ],
      "text/plain": [
       "             id  popularity       budget       revenue  runtime  vote_count  \\\n",
       "count   3855.00     3855.00      3855.00       3855.00  3855.00     3855.00   \n",
       "mean   39888.78        1.19  37201828.29  107658932.67   109.22      527.61   \n",
       "std    67213.82        1.48  42202907.91  176524809.56    19.92      879.87   \n",
       "min        5.00        0.00         1.00          2.00    15.00       10.00   \n",
       "25%     6074.00        0.46  10000000.00   13576449.50    95.00       71.00   \n",
       "50%    11322.00        0.80  24000000.00   44793222.00   106.00      204.00   \n",
       "75%    38577.00        1.37  50000000.00  124152957.50   119.00      580.00   \n",
       "max   417859.00       32.99 425000000.00 2781505847.00   338.00     9767.00   \n",
       "\n",
       "       vote_average  release_year   budget_adj   revenue_adj  \n",
       "count       3855.00       3855.00      3855.00       3855.00  \n",
       "mean           6.17       2001.26  44236299.18  137029386.10  \n",
       "std            0.80         11.28  44804027.33  216094430.04  \n",
       "min            2.20       1960.00         0.97          2.37  \n",
       "25%            5.70       1995.00  13090528.47   18341233.69  \n",
       "50%            6.20       2004.00  30015580.40   61718613.20  \n",
       "75%            6.70       2010.00  60613069.68  163240089.71  \n",
       "max            8.40       2015.00 425000000.00 2827123750.41  "
      ]
     },
     "execution_count": 62,
     "metadata": {},
     "output_type": "execute_result"
    }
   ],
   "source": [
    "cleaned_movies.describe()"
   ]
  },
  {
   "cell_type": "code",
   "execution_count": null,
   "metadata": {
    "collapsed": true
   },
   "outputs": [],
   "source": []
  }
 ],
 "metadata": {
  "kernelspec": {
   "display_name": "Python 2",
   "language": "python",
   "name": "python2"
  },
  "language_info": {
   "codemirror_mode": {
    "name": "ipython",
    "version": 2
   },
   "file_extension": ".py",
   "mimetype": "text/x-python",
   "name": "python",
   "nbconvert_exporter": "python",
   "pygments_lexer": "ipython2",
   "version": "2.7.13"
  }
 },
 "nbformat": 4,
 "nbformat_minor": 2
}
