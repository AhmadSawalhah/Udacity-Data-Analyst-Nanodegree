{
 "cells": [
  {
   "cell_type": "markdown",
   "metadata": {},
   "source": [
    "# Udacity DAND Project 1: Deck Building"
   ]
  },
  {
   "cell_type": "code",
   "execution_count": 1,
   "metadata": {
    "collapsed": true
   },
   "outputs": [],
   "source": [
    "%matplotlib inline"
   ]
  },
  {
   "cell_type": "code",
   "execution_count": 2,
   "metadata": {
    "collapsed": true
   },
   "outputs": [],
   "source": [
    "import pandas as pd\n",
    "import matplotlib.pyplot as plt\n",
    "import seaborn as sns"
   ]
  },
  {
   "cell_type": "code",
   "execution_count": 26,
   "metadata": {
    "collapsed": true
   },
   "outputs": [],
   "source": [
    "suits = ['s', 'h', 'c', 'd']\n",
    "ranks = ['A', '2', '3', '4', '5', '6', '7', '8', '9', 'K', 'Q', 'J']"
   ]
  },
  {
   "cell_type": "code",
   "execution_count": 27,
   "metadata": {
    "collapsed": true
   },
   "outputs": [],
   "source": [
    "cards = [rank+suit for suit in suits for rank in ranks]\n",
    "deck = {}\n",
    "\n",
    "for card in cards:\n",
    "    if card[0] == 'A':\n",
    "        deck[card] = 1\n",
    "    elif card[0] in ['K', 'Q', 'J']:\n",
    "        deck[card] = 10\n",
    "    else:\n",
    "        deck[card] = int(card[0])\n",
    "\n",
    "deck_series = pd.Series(deck)\n",
    "\n",
    "def show_stats(df):\n",
    "    mean = df.mean()\n",
    "    median = df.median()\n",
    "    std = df.std(ddof=0)\n",
    "    \n",
    "    result = \"Mean: {} Median: {} Standard Deviation: {}\".format(mean, median, std)\n",
    "    return result"
   ]
  },
  {
   "cell_type": "code",
   "execution_count": 5,
   "metadata": {},
   "outputs": [
    {
     "data": {
      "text/plain": [
       "<matplotlib.axes._subplots.AxesSubplot at 0x118509bd0>"
      ]
     },
     "execution_count": 5,
     "metadata": {},
     "output_type": "execute_result"
    },
    {
     "data": {
      "image/png": "[encoded data removed]",
      "text/plain": [
       "<matplotlib.figure.Figure at 0x118509c90>"
      ]
     },
     "metadata": {},
     "output_type": "display_data"
    }
   ],
   "source": [
    "deck_series.hist()"
   ]
  },
  {
   "cell_type": "code",
   "execution_count": 36,
   "metadata": {},
   "outputs": [
    {
     "data": {
      "text/plain": [
       "[6c    6\n",
       " 6s    6\n",
       " 7d    7\n",
       " dtype: int64, Ah    1\n",
       " 8s    8\n",
       " 2d    2\n",
       " dtype: int64, 2s    2\n",
       " 4h    4\n",
       " 2h    2\n",
       " dtype: int64, 7h     7\n",
       " 2h     2\n",
       " Js    10\n",
       " dtype: int64, As    1\n",
       " 4s    4\n",
       " 2s    2\n",
       " dtype: int64, 2h     2\n",
       " Jh    10\n",
       " Kc    10\n",
       " dtype: int64, Kh    10\n",
       " 7d     7\n",
       " 3h     3\n",
       " dtype: int64, 6h    6\n",
       " 2c    2\n",
       " 3c    3\n",
       " dtype: int64, 6c     6\n",
       " Jh    10\n",
       " Qs    10\n",
       " dtype: int64, Qc    10\n",
       " 5h     5\n",
       " As     1\n",
       " dtype: int64, 6d     6\n",
       " Qd    10\n",
       " 5h     5\n",
       " dtype: int64, Jd    10\n",
       " Js    10\n",
       " 2h     2\n",
       " dtype: int64, 5s     5\n",
       " Qd    10\n",
       " 6s     6\n",
       " dtype: int64, 2c    2\n",
       " 3d    3\n",
       " 3s    3\n",
       " dtype: int64, 7c    7\n",
       " 3s    3\n",
       " 2h    2\n",
       " dtype: int64, 5h    5\n",
       " 2h    2\n",
       " 2s    2\n",
       " dtype: int64, Js    10\n",
       " As     1\n",
       " 9h     9\n",
       " dtype: int64, 3h    3\n",
       " 7c    7\n",
       " 2c    2\n",
       " dtype: int64, 3s     3\n",
       " Kh    10\n",
       " 3d     3\n",
       " dtype: int64, Kc    10\n",
       " 7c     7\n",
       " Ad     1\n",
       " dtype: int64, 3c     3\n",
       " Qs    10\n",
       " Jc    10\n",
       " dtype: int64, Jc    10\n",
       " Ks    10\n",
       " 6s     6\n",
       " dtype: int64, 7c     7\n",
       " Kd    10\n",
       " Kc    10\n",
       " dtype: int64, 3d     3\n",
       " Jc    10\n",
       " 2s     2\n",
       " dtype: int64, Ad    1\n",
       " 9h    9\n",
       " 7h    7\n",
       " dtype: int64, Js    10\n",
       " 3d     3\n",
       " 5c     5\n",
       " dtype: int64, 8c    8\n",
       " 7s    7\n",
       " 3s    3\n",
       " dtype: int64, Ah    1\n",
       " 4h    4\n",
       " 3c    3\n",
       " dtype: int64, 2s     2\n",
       " 7s     7\n",
       " Jd    10\n",
       " dtype: int64, 3h    3\n",
       " 2h    2\n",
       " 3c    3\n",
       " dtype: int64]"
      ]
     },
     "execution_count": 36,
     "metadata": {},
     "output_type": "execute_result"
    }
   ],
   "source": [
    "draws = [deck_series.sample(n=3) for _ in range(30)]\n",
    "draws"
   ]
  },
  {
   "cell_type": "code",
   "execution_count": 33,
   "metadata": {},
   "outputs": [
    {
     "data": {
      "text/plain": [
       "'Mean: 6.25 Median: 6.5 Standard Deviation: 3.1124748995'"
      ]
     },
     "execution_count": 33,
     "metadata": {},
     "output_type": "execute_result"
    }
   ],
   "source": [
    "show_stats(deck_series)"
   ]
  },
  {
   "cell_type": "code",
   "execution_count": 29,
   "metadata": {
    "collapsed": true
   },
   "outputs": [],
   "source": [
    "deck_series.sample?"
   ]
  },
  {
   "cell_type": "code",
   "execution_count": null,
   "metadata": {
    "collapsed": true
   },
   "outputs": [],
   "source": []
  }
 ],
 "metadata": {
  "kernelspec": {
   "display_name": "Python 2",
   "language": "python",
   "name": "python2"
  },
  "language_info": {
   "codemirror_mode": {
    "name": "ipython",
    "version": 2
   },
   "file_extension": ".py",
   "mimetype": "text/x-python",
   "name": "python",
   "nbconvert_exporter": "python",
   "pygments_lexer": "ipython2",
   "version": "2.7.13"
  }
 },
 "nbformat": 4,
 "nbformat_minor": 2
}
