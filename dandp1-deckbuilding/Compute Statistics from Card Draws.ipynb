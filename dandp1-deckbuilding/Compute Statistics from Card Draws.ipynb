{
 "cells": [
  {
   "cell_type": "markdown",
   "metadata": {},
   "source": [
    "# Udacity DAND Project 1: Deck Building"
   ]
  },
  {
   "cell_type": "markdown",
   "metadata": {
    "collapsed": true
   },
   "source": [
    "## Setup\n",
    "Prior to doing any analysis, we first have to setup our card decks. I used pandas to come up with a dictionary with cards paired with their respective values. This way I can place them into a Pandas series to run functions for analysis.\n",
    "\n",
    "Besides the initial deck setup, I also created a helper function named _shows_stats_ to display several descriptive stats on a data set."
   ]
  },
  {
   "cell_type": "code",
   "execution_count": 1,
   "metadata": {
    "collapsed": true
   },
   "outputs": [],
   "source": [
    "%matplotlib inline\n",
    "import pandas as pd\n",
    "import scipy.stats as st\n",
    "import matplotlib.pyplot as plt\n",
    "import seaborn as sns\n",
    "import numpy as np\n",
    "\n",
    "suits = ['s', 'h', 'c', 'd']\n",
    "ranks = ['A', '2', '3', '4', '5', '6', '7', '8', '9', '10', 'K', 'Q', 'J']\n",
    "cards = [rank+suit for suit in suits for rank in ranks]\n",
    "deck = {}\n",
    "samples = [[\"8c\", \"Js\", \"2d\"],\n",
    "[\"Jh\", \"Kh\", \"10s\"],\n",
    "[\"3d\", \"2h\", \"5c\"],\n",
    "[\"Js\", \"3c\", \"10d\"],\n",
    "[\"Jd\", \"5s\", \"4s\"],\n",
    "[\"Ad\", \"Jc\", \"10c\"],\n",
    "[\"10c\", \"6s\", \"7h\"],\n",
    "[\"Qd\", \"Jc\", \"Jd\"],\n",
    "[\"3h\", \"8d\", \"4d\"],\n",
    "[\"9c\", \"8h\", \"7c\"],\n",
    "[\"Ac\", \"8s\", \"2d\"],\n",
    "[\"4h\", \"Jc\", \"5d\"],\n",
    "[\"9d\", \"Kc\", \"Js\"],\n",
    "[\"8h\", \"8d\", \"7c\"],\n",
    "[\"3h\", \"Qd\", \"6h\"],\n",
    "[\"Qh\", \"2d\", \"Ah\"],\n",
    "[\"3s\", \"5h\", \"2h\"],\n",
    "[\"5s\", \"6d\", \"6s\"],\n",
    "[\"Ks\", \"Ad\", \"4d\"],\n",
    "[\"8d\", \"8h\", \"As\"],\n",
    "[\"6d\", \"9d\", \"Qh\"],\n",
    "[\"Ad\", \"Ah\", \"Ks\"],\n",
    "[\"5h\", \"8c\", \"10h\"],\n",
    "[\"6d\", \"9c\", \"Ad\"],\n",
    "[\"Jh\", \"7c\", \"3c\"],\n",
    "[\"5h\", \"Qc\", \"4s\"],\n",
    "[\"7h\", \"8h\", \"Kh\"],\n",
    "[\"4h\", \"5s\", \"Ac\"],\n",
    "[\"6c\", \"Jc\", \"2h\"],\n",
    "[\"Qh\", \"Jc\", \"8s\"]]\n",
    "\n",
    "for card in cards:\n",
    "    if card[0] == 'A':\n",
    "        deck[card] = 1\n",
    "    elif card[0] in ['1', 'K', 'Q', 'J']:\n",
    "        deck[card] = 10\n",
    "    else:\n",
    "        deck[card] = int(card[0])\n",
    "\n",
    "deck_series = pd.Series(deck)\n",
    "\n",
    "def show_stats(data, ddof=1):\n",
    "    mean = data.mean()\n",
    "    median = data.median()\n",
    "    var = data.var()\n",
    "    std = data.std(ddof=ddof)\n",
    "    \n",
    "    result = \"Mean: {} Median: {} Variance: {} Standard Deviation: {}\".format(mean, median, var, std)\n",
    "    return result"
   ]
  },
  {
   "cell_type": "markdown",
   "metadata": {},
   "source": [
    "## 1: Single Card Draw Histogram and Descriptive Stats.\n",
    "\n",
    "Now with our environment created, we can get started on doing some analysis.\n",
    "\n",
    "The first question asks to display a histogram of the relative frequencies of a card value for a single draw, as well as several descriptive statistics on the values for the distribution. That information is displayed in the below cell."
   ]
  },
  {
   "cell_type": "code",
   "execution_count": 2,
   "metadata": {},
   "outputs": [
    {
     "data": {
      "text/plain": [
       "'Mean: 6.53846153846 Median: 7.0 Variance: 10.1357466063 Standard Deviation: 3.15290792799'"
      ]
     },
     "execution_count": 2,
     "metadata": {},
     "output_type": "execute_result"
    },
    {
     "data": {
      "image/png": "[encoded data removed]",
      "text/plain": [
       "<matplotlib.figure.Figure at 0x51817f0>"
      ]
     },
     "metadata": {},
     "output_type": "display_data"
    }
   ],
   "source": [
    "deck_series.hist()\n",
    "show_stats(deck_series, ddof=0)"
   ]
  },
  {
   "cell_type": "markdown",
   "metadata": {},
   "source": [
    "## 2: Descriptive Stats for Three-Card Sums\n",
    "\n",
    "The next step requires us to create some samples of three-card sums. We already have a set of 30 samples provided to use, so we don't have to create our own. We will then proceed to look at two measures of variability (mean and median) and central tendency (variance and standard deviation)."
   ]
  },
  {
   "cell_type": "code",
   "execution_count": 3,
   "metadata": {},
   "outputs": [
    {
     "data": {
      "text/plain": [
       "'Mean: 19.4666666667 Median: 19.0 Variance: 35.3609195402 Standard Deviation: 5.94650481714'"
      ]
     },
     "execution_count": 3,
     "metadata": {},
     "output_type": "execute_result"
    }
   ],
   "source": [
    "sum_samples = pd.Series([sum(map(deck.get, sample)) for sample in samples])\n",
    "show_stats(sum_samples)"
   ]
  },
  {
   "cell_type": "markdown",
   "metadata": {},
   "source": [
    "## 3: Histogram Comparison Between Single-Card and Three-Card Sum Draws\n",
    "\n",
    "Lets take a look at the histogram for our three-card sums."
   ]
  },
  {
   "cell_type": "code",
   "execution_count": 4,
   "metadata": {},
   "outputs": [
    {
     "data": {
      "text/plain": [
       "<matplotlib.axes._subplots.AxesSubplot at 0xc069358>"
      ]
     },
     "execution_count": 4,
     "metadata": {},
     "output_type": "execute_result"
    },
    {
     "data": {
      "image/png": "[encoded data removed]",
      "text/plain": [
       "<matplotlib.figure.Figure at 0x5181438>"
      ]
     },
     "metadata": {},
     "output_type": "display_data"
    }
   ],
   "source": [
    "sum_samples.hist(bins=range(5, 32, 2))"
   ]
  },
  {
   "cell_type": "markdown",
   "metadata": {},
   "source": [
    "While still somewhat scattered, the three-card sum distribution clearly shows some central tendency in its distribution. This differs from the skewed graph shown by our original distribution. As we increase our number of trials, the sampling distribution will center around the mean of the original frequency distribution. This is an observation of the central limit theorem. We can see this by either turning the sums of our three-card sum into means and getting the mean of that distribution, or even multiplying the mean of the original distribution by the number of samples that we took _(in this case, 6.54 * 3 = 19.62, just 0.16 off from our three-card sum mean)._ Note that each card draw does affect our original distribution frequency; once you take a card out the deck, you can't draw it again, thus changing our original probabilities."
   ]
  },
  {
   "cell_type": "markdown",
   "metadata": {},
   "source": [
    "## 4: Estimating Probability of Values\n",
    "\n",
    "To find the values within 90% of our distribution, we find the z-score for both ends of the tail."
   ]
  },
  {
   "cell_type": "code",
   "execution_count": 5,
   "metadata": {},
   "outputs": [
    {
     "name": "stdout",
     "output_type": "stream",
     "text": [
      "Lowest Score: 10.0 - Upper Score: 29.0\n"
     ]
    }
   ],
   "source": [
    "z_high, z_low = st.norm.ppf([.95, .05])\n",
    "lower_score = (z_low * sum_samples.std()) + sum_samples.mean()\n",
    "higher_score = (z_high * sum_samples.std()) + sum_samples.mean()\n",
    "print(\"Lowest Score: {} - Upper Score: {}\".format(round(lower_score), round(higher_score)))"
   ]
  },
  {
   "cell_type": "markdown",
   "metadata": {},
   "source": [
    "Next, we find the probability of drawing at least a 20 from our three-card sum. We essentially do the inverse to finding the z-score, then subtract by 1 to get the left side of the curve."
   ]
  },
  {
   "cell_type": "code",
   "execution_count": 6,
   "metadata": {},
   "outputs": [
    {
     "name": "stdout",
     "output_type": "stream",
     "text": [
      "The probability of getting a sum of 20 is 49.78%\n"
     ]
    }
   ],
   "source": [
    "score = 19.5\n",
    "z_score = (score - sum_samples.mean())/sum_samples.std()\n",
    "prob = 1 - st.norm.cdf(z_score)\n",
    "print(\"The probability of getting a sum of 20 is {:.2%}\".format(prob))"
   ]
  }
 ],
 "metadata": {
  "kernelspec": {
   "display_name": "Python [default]",
   "language": "python",
   "name": "python2"
  },
  "language_info": {
   "codemirror_mode": {
    "name": "ipython",
    "version": 2
   },
   "file_extension": ".py",
   "mimetype": "text/x-python",
   "name": "python",
   "nbconvert_exporter": "python",
   "pygments_lexer": "ipython2",
   "version": "2.7.13"
  }
 },
 "nbformat": 4,
 "nbformat_minor": 2
}
